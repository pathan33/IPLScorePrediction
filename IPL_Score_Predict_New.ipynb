{
  "nbformat": 4,
  "nbformat_minor": 0,
  "metadata": {
    "colab": {
      "name": "IPL Score Predict_New.ipynb",
      "provenance": [],
      "collapsed_sections": [],
      "toc_visible": true,
      "mount_file_id": "1YcyuQuf6-OmSM7i1c26OvBCSk2TovdbY",
      "authorship_tag": "ABX9TyOuP69RaX76fkSpACBNQk82",
      "include_colab_link": true
    },
    "kernelspec": {
      "display_name": "Python 3",
      "name": "python3"
    },
    "language_info": {
      "name": "python"
    }
  },
  "cells": [
    {
      "cell_type": "markdown",
      "metadata": {
        "id": "view-in-github",
        "colab_type": "text"
      },
      "source": [
        "<a href=\"https://colab.research.google.com/github/pathan33/IPLScorePrediction/blob/main/IPL_Score_Predict_New.ipynb\" target=\"_parent\"><img src=\"https://colab.research.google.com/assets/colab-badge.svg\" alt=\"Open In Colab\"/></a>"
      ]
    },
    {
      "cell_type": "markdown",
      "metadata": {
        "id": "vcZjtjoJCAOa"
      },
      "source": [
        "# IPL 1st Inning Score Prediction using Machine Learning\n",
        "The Dataset contains ball by ball information of the matches played between IPL Teams of </b>Season 1 to 10</b>, i.e. from 2008 to 2017.<br/>\n",
        "\n",
        "This Machine Learning model adapts a Regression Approach to predict the score of the First Inning of an IPL Match.<br/>\n",
        "\n",
        "The Dataset can be downloaded from Kaggle from [here](https://www.kaggle.com/yuvrajdagur/ipl-dataset-season-2008-to-2017)\n"
      ]
    },
    {
      "cell_type": "markdown",
      "metadata": {
        "id": "iuO5yo2YCWF9"
      },
      "source": [
        "## Understanding the DATASET <br/>\n",
        "\n",
        "The dataset consists of 15 columns: <br/>\n",
        "<ol><li><b>mid</b>: The match id to uniquely identify each match.</li>\n",
        "<li><b>date</b>: The date on which the match was held. </li>\n",
        "<li><b>venue</b>: The name of the stadium. </li>\n",
        "<li><b>bat_team</b>: The batting team name. </li>\n",
        "<li><b>bowl_team</b>: The bowling team name. </li>\n",
        "<li><b>batsman</b>: The name of the batsman. </li>\n",
        "<li><b>bowler</b>: The name of the bowler. </li>\n",
        "<li><b>runs</b>: The runs scored till now. </li>\n",
        "<li><b>wickets</b>: The wickets taken till now. </li>\n",
        "<li><b>overs</b>: The number of overs bowled. </li>\n",
        "<li><b>runs_last_5</b>: The number of runs scored in last 5 overs. </li>\n",
        "<li><b>wickets_last_5</b>: The number of wickets taken in last 5 overs. </li>\n",
        "<li><b>striker</b>: The name of the batsmen on the batting end. </li>\n",
        "<li><b>non-striker</b>: The name of the batsmen on the bowling end. </li>\n",
        "<li><b>total</b>: The total number of runs scored in the match.</li></ol></br>\n",
        "\n",
        "\n",
        "\n",
        "# A Step by step approach:\n",
        "\n",
        "1. Exploratory Data Analysis\n",
        "2. Feature Engineering and Selection\n",
        "3. Compare Multiple Algorithms\n",
        "4. Perform Hyperparameter Tuning\n",
        "5. Evaluate the models\n",
        "6. Deploy the model"
      ]
    },
    {
      "cell_type": "markdown",
      "metadata": {
        "id": "idKbXn49Cc87"
      },
      "source": [
        "# Import Necessary Libraries"
      ]
    },
    {
      "cell_type": "code",
      "metadata": {
        "id": "z7xzU2N5B4Rv"
      },
      "source": [
        "# Importing necessary Libraries\n",
        "import pandas as pd\n",
        "import numpy as np\n",
        "import matplotlib.pyplot as plt\n",
        "%matplotlib inline"
      ],
      "execution_count": 1,
      "outputs": []
    },
    {
      "cell_type": "markdown",
      "metadata": {
        "id": "ZihfdzomCw6z"
      },
      "source": [
        "**Mount the Google Drive and save the dataset in the Drive name \"ipl.csv\"**"
      ]
    },
    {
      "cell_type": "code",
      "metadata": {
        "colab": {
          "base_uri": "https://localhost:8080/"
        },
        "id": "d8XtP3cSCBHJ",
        "outputId": "70dae1cb-9be3-4f62-f377-4d9726d7c23f"
      },
      "source": [
        "# Reading the data from drive and creating a Dataframe\n",
        "df = pd.read_csv('/content/drive/MyDrive/Google Colab/Machine Learning Model/IPL 1st Innings Score prediction/ipl.csv')\n",
        "print(f'Shape of the dataset is : {df.shape}')"
      ],
      "execution_count": 2,
      "outputs": [
        {
          "output_type": "stream",
          "text": [
            "Shape of the dataset is : (76014, 15)\n"
          ],
          "name": "stdout"
        }
      ]
    },
    {
      "cell_type": "markdown",
      "metadata": {
        "id": "QRcLYbx0DZE5"
      },
      "source": [
        "**Display the top 5 records**"
      ]
    },
    {
      "cell_type": "code",
      "metadata": {
        "colab": {
          "base_uri": "https://localhost:8080/",
          "height": 411
        },
        "id": "2MMikxj1C4bl",
        "outputId": "f638fc62-89e1-497b-bfca-8ed3115f2421"
      },
      "source": [
        "df.head()"
      ],
      "execution_count": 3,
      "outputs": [
        {
          "output_type": "execute_result",
          "data": {
            "text/html": [
              "<div>\n",
              "<style scoped>\n",
              "    .dataframe tbody tr th:only-of-type {\n",
              "        vertical-align: middle;\n",
              "    }\n",
              "\n",
              "    .dataframe tbody tr th {\n",
              "        vertical-align: top;\n",
              "    }\n",
              "\n",
              "    .dataframe thead th {\n",
              "        text-align: right;\n",
              "    }\n",
              "</style>\n",
              "<table border=\"1\" class=\"dataframe\">\n",
              "  <thead>\n",
              "    <tr style=\"text-align: right;\">\n",
              "      <th></th>\n",
              "      <th>mid</th>\n",
              "      <th>date</th>\n",
              "      <th>venue</th>\n",
              "      <th>bat_team</th>\n",
              "      <th>bowl_team</th>\n",
              "      <th>batsman</th>\n",
              "      <th>bowler</th>\n",
              "      <th>runs</th>\n",
              "      <th>wickets</th>\n",
              "      <th>overs</th>\n",
              "      <th>runs_last_5</th>\n",
              "      <th>wickets_last_5</th>\n",
              "      <th>striker</th>\n",
              "      <th>non-striker</th>\n",
              "      <th>total</th>\n",
              "    </tr>\n",
              "  </thead>\n",
              "  <tbody>\n",
              "    <tr>\n",
              "      <th>0</th>\n",
              "      <td>1</td>\n",
              "      <td>2008-04-18</td>\n",
              "      <td>M Chinnaswamy Stadium</td>\n",
              "      <td>Kolkata Knight Riders</td>\n",
              "      <td>Royal Challengers Bangalore</td>\n",
              "      <td>SC Ganguly</td>\n",
              "      <td>P Kumar</td>\n",
              "      <td>1</td>\n",
              "      <td>0</td>\n",
              "      <td>0.1</td>\n",
              "      <td>1</td>\n",
              "      <td>0</td>\n",
              "      <td>0</td>\n",
              "      <td>0</td>\n",
              "      <td>222</td>\n",
              "    </tr>\n",
              "    <tr>\n",
              "      <th>1</th>\n",
              "      <td>1</td>\n",
              "      <td>2008-04-18</td>\n",
              "      <td>M Chinnaswamy Stadium</td>\n",
              "      <td>Kolkata Knight Riders</td>\n",
              "      <td>Royal Challengers Bangalore</td>\n",
              "      <td>BB McCullum</td>\n",
              "      <td>P Kumar</td>\n",
              "      <td>1</td>\n",
              "      <td>0</td>\n",
              "      <td>0.2</td>\n",
              "      <td>1</td>\n",
              "      <td>0</td>\n",
              "      <td>0</td>\n",
              "      <td>0</td>\n",
              "      <td>222</td>\n",
              "    </tr>\n",
              "    <tr>\n",
              "      <th>2</th>\n",
              "      <td>1</td>\n",
              "      <td>2008-04-18</td>\n",
              "      <td>M Chinnaswamy Stadium</td>\n",
              "      <td>Kolkata Knight Riders</td>\n",
              "      <td>Royal Challengers Bangalore</td>\n",
              "      <td>BB McCullum</td>\n",
              "      <td>P Kumar</td>\n",
              "      <td>2</td>\n",
              "      <td>0</td>\n",
              "      <td>0.2</td>\n",
              "      <td>2</td>\n",
              "      <td>0</td>\n",
              "      <td>0</td>\n",
              "      <td>0</td>\n",
              "      <td>222</td>\n",
              "    </tr>\n",
              "    <tr>\n",
              "      <th>3</th>\n",
              "      <td>1</td>\n",
              "      <td>2008-04-18</td>\n",
              "      <td>M Chinnaswamy Stadium</td>\n",
              "      <td>Kolkata Knight Riders</td>\n",
              "      <td>Royal Challengers Bangalore</td>\n",
              "      <td>BB McCullum</td>\n",
              "      <td>P Kumar</td>\n",
              "      <td>2</td>\n",
              "      <td>0</td>\n",
              "      <td>0.3</td>\n",
              "      <td>2</td>\n",
              "      <td>0</td>\n",
              "      <td>0</td>\n",
              "      <td>0</td>\n",
              "      <td>222</td>\n",
              "    </tr>\n",
              "    <tr>\n",
              "      <th>4</th>\n",
              "      <td>1</td>\n",
              "      <td>2008-04-18</td>\n",
              "      <td>M Chinnaswamy Stadium</td>\n",
              "      <td>Kolkata Knight Riders</td>\n",
              "      <td>Royal Challengers Bangalore</td>\n",
              "      <td>BB McCullum</td>\n",
              "      <td>P Kumar</td>\n",
              "      <td>2</td>\n",
              "      <td>0</td>\n",
              "      <td>0.4</td>\n",
              "      <td>2</td>\n",
              "      <td>0</td>\n",
              "      <td>0</td>\n",
              "      <td>0</td>\n",
              "      <td>222</td>\n",
              "    </tr>\n",
              "  </tbody>\n",
              "</table>\n",
              "</div>"
            ],
            "text/plain": [
              "   mid        date                  venue  ... striker non-striker total\n",
              "0    1  2008-04-18  M Chinnaswamy Stadium  ...       0           0   222\n",
              "1    1  2008-04-18  M Chinnaswamy Stadium  ...       0           0   222\n",
              "2    1  2008-04-18  M Chinnaswamy Stadium  ...       0           0   222\n",
              "3    1  2008-04-18  M Chinnaswamy Stadium  ...       0           0   222\n",
              "4    1  2008-04-18  M Chinnaswamy Stadium  ...       0           0   222\n",
              "\n",
              "[5 rows x 15 columns]"
            ]
          },
          "metadata": {
            "tags": []
          },
          "execution_count": 3
        }
      ]
    },
    {
      "cell_type": "markdown",
      "metadata": {
        "id": "9ZTTHcY1DcnW"
      },
      "source": [
        "# 1. Exploratory Data Analysis\n",
        "# 2. Feature Engineering and Selection"
      ]
    },
    {
      "cell_type": "code",
      "metadata": {
        "colab": {
          "base_uri": "https://localhost:8080/"
        },
        "id": "V8f9JFdXDade",
        "outputId": "a69e80b7-a580-4d63-aecf-a041656f3298"
      },
      "source": [
        "# checking for missing values in the dataset\n",
        "df.isnull().sum()"
      ],
      "execution_count": 4,
      "outputs": [
        {
          "output_type": "execute_result",
          "data": {
            "text/plain": [
              "mid               0\n",
              "date              0\n",
              "venue             0\n",
              "bat_team          0\n",
              "bowl_team         0\n",
              "batsman           0\n",
              "bowler            0\n",
              "runs              0\n",
              "wickets           0\n",
              "overs             0\n",
              "runs_last_5       0\n",
              "wickets_last_5    0\n",
              "striker           0\n",
              "non-striker       0\n",
              "total             0\n",
              "dtype: int64"
            ]
          },
          "metadata": {
            "tags": []
          },
          "execution_count": 4
        }
      ]
    },
    {
      "cell_type": "code",
      "metadata": {
        "colab": {
          "base_uri": "https://localhost:8080/"
        },
        "id": "puWQ54vMDflW",
        "outputId": "83dd2ad4-738b-462f-a5b6-78cb35783901"
      },
      "source": [
        "# unique labels in features\n",
        "for col in df.columns:\n",
        "  print(col, \":\", len(df[col].unique()), \"labels\")"
      ],
      "execution_count": 5,
      "outputs": [
        {
          "output_type": "stream",
          "text": [
            "mid : 617 labels\n",
            "date : 442 labels\n",
            "venue : 35 labels\n",
            "bat_team : 14 labels\n",
            "bowl_team : 14 labels\n",
            "batsman : 411 labels\n",
            "bowler : 329 labels\n",
            "runs : 252 labels\n",
            "wickets : 11 labels\n",
            "overs : 140 labels\n",
            "runs_last_5 : 102 labels\n",
            "wickets_last_5 : 8 labels\n",
            "striker : 155 labels\n",
            "non-striker : 88 labels\n",
            "total : 138 labels\n"
          ],
          "name": "stdout"
        }
      ]
    },
    {
      "cell_type": "code",
      "metadata": {
        "colab": {
          "base_uri": "https://localhost:8080/"
        },
        "id": "Npi2HNxKDhsu",
        "outputId": "a95d24ef-0f5c-4a68-d3ca-375698668e8f"
      },
      "source": [
        "# Number of Unique Values in each column\n",
        "df.nunique()"
      ],
      "execution_count": 6,
      "outputs": [
        {
          "output_type": "execute_result",
          "data": {
            "text/plain": [
              "mid               617\n",
              "date              442\n",
              "venue              35\n",
              "bat_team           14\n",
              "bowl_team          14\n",
              "batsman           411\n",
              "bowler            329\n",
              "runs              252\n",
              "wickets            11\n",
              "overs             140\n",
              "runs_last_5       102\n",
              "wickets_last_5      8\n",
              "striker           155\n",
              "non-striker        88\n",
              "total             138\n",
              "dtype: int64"
            ]
          },
          "metadata": {
            "tags": []
          },
          "execution_count": 6
        }
      ]
    },
    {
      "cell_type": "code",
      "metadata": {
        "colab": {
          "base_uri": "https://localhost:8080/"
        },
        "id": "xTFvgaMsDjpG",
        "outputId": "51c9d631-9720-4e88-92df-eb1246df2af2"
      },
      "source": [
        "# datatype of columns\n",
        "df.dtypes"
      ],
      "execution_count": 7,
      "outputs": [
        {
          "output_type": "execute_result",
          "data": {
            "text/plain": [
              "mid                 int64\n",
              "date               object\n",
              "venue              object\n",
              "bat_team           object\n",
              "bowl_team          object\n",
              "batsman            object\n",
              "bowler             object\n",
              "runs                int64\n",
              "wickets             int64\n",
              "overs             float64\n",
              "runs_last_5         int64\n",
              "wickets_last_5      int64\n",
              "striker             int64\n",
              "non-striker         int64\n",
              "total               int64\n",
              "dtype: object"
            ]
          },
          "metadata": {
            "tags": []
          },
          "execution_count": 7
        }
      ]
    },
    {
      "cell_type": "markdown",
      "metadata": {
        "id": "Fezx5dqPEWLP"
      },
      "source": [
        "#### Data Cleaning and formatting"
      ]
    },
    {
      "cell_type": "code",
      "metadata": {
        "id": "xrNnalA_DmYv"
      },
      "source": [
        "# --- Data Cleaning ---\n",
        "# Removing unwanted columns\n",
        "cols_to_remove = ['date','mid', 'batsman', 'bowler', 'striker', 'non-striker']\n",
        "df.drop(labels=cols_to_remove, axis=1, inplace=True)"
      ],
      "execution_count": 8,
      "outputs": []
    },
    {
      "cell_type": "code",
      "metadata": {
        "colab": {
          "base_uri": "https://localhost:8080/",
          "height": 289
        },
        "id": "MftbplciEYLa",
        "outputId": "66619c2d-3dc2-44db-8a64-65b070968a63"
      },
      "source": [
        "# Data after removing columns\n",
        "df.head()"
      ],
      "execution_count": 9,
      "outputs": [
        {
          "output_type": "execute_result",
          "data": {
            "text/html": [
              "<div>\n",
              "<style scoped>\n",
              "    .dataframe tbody tr th:only-of-type {\n",
              "        vertical-align: middle;\n",
              "    }\n",
              "\n",
              "    .dataframe tbody tr th {\n",
              "        vertical-align: top;\n",
              "    }\n",
              "\n",
              "    .dataframe thead th {\n",
              "        text-align: right;\n",
              "    }\n",
              "</style>\n",
              "<table border=\"1\" class=\"dataframe\">\n",
              "  <thead>\n",
              "    <tr style=\"text-align: right;\">\n",
              "      <th></th>\n",
              "      <th>venue</th>\n",
              "      <th>bat_team</th>\n",
              "      <th>bowl_team</th>\n",
              "      <th>runs</th>\n",
              "      <th>wickets</th>\n",
              "      <th>overs</th>\n",
              "      <th>runs_last_5</th>\n",
              "      <th>wickets_last_5</th>\n",
              "      <th>total</th>\n",
              "    </tr>\n",
              "  </thead>\n",
              "  <tbody>\n",
              "    <tr>\n",
              "      <th>0</th>\n",
              "      <td>M Chinnaswamy Stadium</td>\n",
              "      <td>Kolkata Knight Riders</td>\n",
              "      <td>Royal Challengers Bangalore</td>\n",
              "      <td>1</td>\n",
              "      <td>0</td>\n",
              "      <td>0.1</td>\n",
              "      <td>1</td>\n",
              "      <td>0</td>\n",
              "      <td>222</td>\n",
              "    </tr>\n",
              "    <tr>\n",
              "      <th>1</th>\n",
              "      <td>M Chinnaswamy Stadium</td>\n",
              "      <td>Kolkata Knight Riders</td>\n",
              "      <td>Royal Challengers Bangalore</td>\n",
              "      <td>1</td>\n",
              "      <td>0</td>\n",
              "      <td>0.2</td>\n",
              "      <td>1</td>\n",
              "      <td>0</td>\n",
              "      <td>222</td>\n",
              "    </tr>\n",
              "    <tr>\n",
              "      <th>2</th>\n",
              "      <td>M Chinnaswamy Stadium</td>\n",
              "      <td>Kolkata Knight Riders</td>\n",
              "      <td>Royal Challengers Bangalore</td>\n",
              "      <td>2</td>\n",
              "      <td>0</td>\n",
              "      <td>0.2</td>\n",
              "      <td>2</td>\n",
              "      <td>0</td>\n",
              "      <td>222</td>\n",
              "    </tr>\n",
              "    <tr>\n",
              "      <th>3</th>\n",
              "      <td>M Chinnaswamy Stadium</td>\n",
              "      <td>Kolkata Knight Riders</td>\n",
              "      <td>Royal Challengers Bangalore</td>\n",
              "      <td>2</td>\n",
              "      <td>0</td>\n",
              "      <td>0.3</td>\n",
              "      <td>2</td>\n",
              "      <td>0</td>\n",
              "      <td>222</td>\n",
              "    </tr>\n",
              "    <tr>\n",
              "      <th>4</th>\n",
              "      <td>M Chinnaswamy Stadium</td>\n",
              "      <td>Kolkata Knight Riders</td>\n",
              "      <td>Royal Challengers Bangalore</td>\n",
              "      <td>2</td>\n",
              "      <td>0</td>\n",
              "      <td>0.4</td>\n",
              "      <td>2</td>\n",
              "      <td>0</td>\n",
              "      <td>222</td>\n",
              "    </tr>\n",
              "  </tbody>\n",
              "</table>\n",
              "</div>"
            ],
            "text/plain": [
              "                   venue               bat_team  ... wickets_last_5  total\n",
              "0  M Chinnaswamy Stadium  Kolkata Knight Riders  ...              0    222\n",
              "1  M Chinnaswamy Stadium  Kolkata Knight Riders  ...              0    222\n",
              "2  M Chinnaswamy Stadium  Kolkata Knight Riders  ...              0    222\n",
              "3  M Chinnaswamy Stadium  Kolkata Knight Riders  ...              0    222\n",
              "4  M Chinnaswamy Stadium  Kolkata Knight Riders  ...              0    222\n",
              "\n",
              "[5 rows x 9 columns]"
            ]
          },
          "metadata": {
            "tags": []
          },
          "execution_count": 9
        }
      ]
    },
    {
      "cell_type": "markdown",
      "metadata": {
        "id": "bSmA2BVXEbYY"
      },
      "source": [
        "#### Selecting most used Stadiums"
      ]
    },
    {
      "cell_type": "code",
      "metadata": {
        "colab": {
          "base_uri": "https://localhost:8080/",
          "height": 612
        },
        "id": "iKJya2tD0yyZ",
        "outputId": "8d8fab38-ad26-4b43-a105-7bb4f6f84707"
      },
      "source": [
        "# Unique Venues\n",
        "print(f\"Current Venues : \\n{df['venue'].unique()}\")\n",
        "\n",
        "df.head()"
      ],
      "execution_count": 10,
      "outputs": [
        {
          "output_type": "stream",
          "text": [
            "Current Venues : \n",
            "['M Chinnaswamy Stadium' 'Punjab Cricket Association Stadium, Mohali'\n",
            " 'Feroz Shah Kotla' 'Wankhede Stadium' 'Eden Gardens'\n",
            " 'Sawai Mansingh Stadium' 'Rajiv Gandhi International Stadium, Uppal'\n",
            " 'MA Chidambaram Stadium, Chepauk' 'Dr DY Patil Sports Academy' 'Newlands'\n",
            " \"St George's Park\" 'Kingsmead' 'SuperSport Park' 'Buffalo Park'\n",
            " 'New Wanderers Stadium' 'De Beers Diamond Oval' 'OUTsurance Oval'\n",
            " 'Brabourne Stadium' 'Sardar Patel Stadium, Motera' 'Barabati Stadium'\n",
            " 'Vidarbha Cricket Association Stadium, Jamtha'\n",
            " 'Himachal Pradesh Cricket Association Stadium' 'Nehru Stadium'\n",
            " 'Holkar Cricket Stadium'\n",
            " 'Dr. Y.S. Rajasekhara Reddy ACA-VDCA Cricket Stadium'\n",
            " 'Subrata Roy Sahara Stadium'\n",
            " 'Shaheed Veer Narayan Singh International Stadium'\n",
            " 'JSCA International Stadium Complex' 'Sheikh Zayed Stadium'\n",
            " 'Sharjah Cricket Stadium' 'Dubai International Cricket Stadium'\n",
            " 'Maharashtra Cricket Association Stadium'\n",
            " 'Punjab Cricket Association IS Bindra Stadium, Mohali'\n",
            " 'Saurashtra Cricket Association Stadium' 'Green Park']\n"
          ],
          "name": "stdout"
        },
        {
          "output_type": "execute_result",
          "data": {
            "text/html": [
              "<div>\n",
              "<style scoped>\n",
              "    .dataframe tbody tr th:only-of-type {\n",
              "        vertical-align: middle;\n",
              "    }\n",
              "\n",
              "    .dataframe tbody tr th {\n",
              "        vertical-align: top;\n",
              "    }\n",
              "\n",
              "    .dataframe thead th {\n",
              "        text-align: right;\n",
              "    }\n",
              "</style>\n",
              "<table border=\"1\" class=\"dataframe\">\n",
              "  <thead>\n",
              "    <tr style=\"text-align: right;\">\n",
              "      <th></th>\n",
              "      <th>venue</th>\n",
              "      <th>bat_team</th>\n",
              "      <th>bowl_team</th>\n",
              "      <th>runs</th>\n",
              "      <th>wickets</th>\n",
              "      <th>overs</th>\n",
              "      <th>runs_last_5</th>\n",
              "      <th>wickets_last_5</th>\n",
              "      <th>total</th>\n",
              "    </tr>\n",
              "  </thead>\n",
              "  <tbody>\n",
              "    <tr>\n",
              "      <th>0</th>\n",
              "      <td>M Chinnaswamy Stadium</td>\n",
              "      <td>Kolkata Knight Riders</td>\n",
              "      <td>Royal Challengers Bangalore</td>\n",
              "      <td>1</td>\n",
              "      <td>0</td>\n",
              "      <td>0.1</td>\n",
              "      <td>1</td>\n",
              "      <td>0</td>\n",
              "      <td>222</td>\n",
              "    </tr>\n",
              "    <tr>\n",
              "      <th>1</th>\n",
              "      <td>M Chinnaswamy Stadium</td>\n",
              "      <td>Kolkata Knight Riders</td>\n",
              "      <td>Royal Challengers Bangalore</td>\n",
              "      <td>1</td>\n",
              "      <td>0</td>\n",
              "      <td>0.2</td>\n",
              "      <td>1</td>\n",
              "      <td>0</td>\n",
              "      <td>222</td>\n",
              "    </tr>\n",
              "    <tr>\n",
              "      <th>2</th>\n",
              "      <td>M Chinnaswamy Stadium</td>\n",
              "      <td>Kolkata Knight Riders</td>\n",
              "      <td>Royal Challengers Bangalore</td>\n",
              "      <td>2</td>\n",
              "      <td>0</td>\n",
              "      <td>0.2</td>\n",
              "      <td>2</td>\n",
              "      <td>0</td>\n",
              "      <td>222</td>\n",
              "    </tr>\n",
              "    <tr>\n",
              "      <th>3</th>\n",
              "      <td>M Chinnaswamy Stadium</td>\n",
              "      <td>Kolkata Knight Riders</td>\n",
              "      <td>Royal Challengers Bangalore</td>\n",
              "      <td>2</td>\n",
              "      <td>0</td>\n",
              "      <td>0.3</td>\n",
              "      <td>2</td>\n",
              "      <td>0</td>\n",
              "      <td>222</td>\n",
              "    </tr>\n",
              "    <tr>\n",
              "      <th>4</th>\n",
              "      <td>M Chinnaswamy Stadium</td>\n",
              "      <td>Kolkata Knight Riders</td>\n",
              "      <td>Royal Challengers Bangalore</td>\n",
              "      <td>2</td>\n",
              "      <td>0</td>\n",
              "      <td>0.4</td>\n",
              "      <td>2</td>\n",
              "      <td>0</td>\n",
              "      <td>222</td>\n",
              "    </tr>\n",
              "  </tbody>\n",
              "</table>\n",
              "</div>"
            ],
            "text/plain": [
              "                   venue               bat_team  ... wickets_last_5  total\n",
              "0  M Chinnaswamy Stadium  Kolkata Knight Riders  ...              0    222\n",
              "1  M Chinnaswamy Stadium  Kolkata Knight Riders  ...              0    222\n",
              "2  M Chinnaswamy Stadium  Kolkata Knight Riders  ...              0    222\n",
              "3  M Chinnaswamy Stadium  Kolkata Knight Riders  ...              0    222\n",
              "4  M Chinnaswamy Stadium  Kolkata Knight Riders  ...              0    222\n",
              "\n",
              "[5 rows x 9 columns]"
            ]
          },
          "metadata": {
            "tags": []
          },
          "execution_count": 10
        }
      ]
    },
    {
      "cell_type": "code",
      "metadata": {
        "colab": {
          "base_uri": "https://localhost:8080/"
        },
        "id": "3mhao34KEZTN",
        "outputId": "47b9b2af-1810-45ac-d867-4c9ae3bcf0c4"
      },
      "source": [
        "# Lets check most of the used Stadiums\n",
        "df['count'] = 1\n",
        "df.groupby('venue')['count'].count().sort_values(ascending=False)"
      ],
      "execution_count": 11,
      "outputs": [
        {
          "output_type": "execute_result",
          "data": {
            "text/plain": [
              "venue\n",
              "M Chinnaswamy Stadium                                   7443\n",
              "Feroz Shah Kotla                                        7068\n",
              "Eden Gardens                                            7049\n",
              "Wankhede Stadium                                        7048\n",
              "MA Chidambaram Stadium, Chepauk                         5972\n",
              "Rajiv Gandhi International Stadium, Uppal               5827\n",
              "Punjab Cricket Association Stadium, Mohali              4247\n",
              "Sawai Mansingh Stadium                                  4110\n",
              "Dr DY Patil Sports Academy                              2088\n",
              "Subrata Roy Sahara Stadium                              2086\n",
              "Maharashtra Cricket Association Stadium                 1843\n",
              "Kingsmead                                               1731\n",
              "Sardar Patel Stadium, Motera                            1484\n",
              "Brabourne Stadium                                       1380\n",
              "SuperSport Park                                         1377\n",
              "Punjab Cricket Association IS Bindra Stadium, Mohali    1342\n",
              "Saurashtra Cricket Association Stadium                  1229\n",
              "Himachal Pradesh Cricket Association Stadium            1115\n",
              "Dr. Y.S. Rajasekhara Reddy ACA-VDCA Cricket Stadium     1113\n",
              "New Wanderers Stadium                                    995\n",
              "St George's Park                                         870\n",
              "Dubai International Cricket Stadium                      868\n",
              "Barabati Stadium                                         856\n",
              "JSCA International Stadium Complex                       837\n",
              "Sheikh Zayed Stadium                                     836\n",
              "Sharjah Cricket Stadium                                  744\n",
              "Shaheed Veer Narayan Singh International Stadium         742\n",
              "Newlands                                                 737\n",
              "Holkar Cricket Stadium                                   617\n",
              "Nehru Stadium                                            499\n",
              "Green Park                                               492\n",
              "Buffalo Park                                             380\n",
              "Vidarbha Cricket Association Stadium, Jamtha             370\n",
              "De Beers Diamond Oval                                    368\n",
              "OUTsurance Oval                                          251\n",
              "Name: count, dtype: int64"
            ]
          },
          "metadata": {
            "tags": []
          },
          "execution_count": 11
        }
      ]
    },
    {
      "cell_type": "markdown",
      "metadata": {
        "id": "GYLJHfw6EfQX"
      },
      "source": [
        "Now that we know how many times a stadium is being used, we can choose only the top stadiums which have most data for our model prediction."
      ]
    },
    {
      "cell_type": "code",
      "metadata": {
        "colab": {
          "base_uri": "https://localhost:8080/"
        },
        "id": "aP60K0zJEc-l",
        "outputId": "b263e2a7-abc9-4a0f-8356-90e55acbd3c3"
      },
      "source": [
        "# selecting most used stadiums \n",
        "df.groupby('venue')['count'].count().sort_values(ascending=False).head(10).index"
      ],
      "execution_count": 12,
      "outputs": [
        {
          "output_type": "execute_result",
          "data": {
            "text/plain": [
              "Index(['M Chinnaswamy Stadium', 'Feroz Shah Kotla', 'Eden Gardens',\n",
              "       'Wankhede Stadium', 'MA Chidambaram Stadium, Chepauk',\n",
              "       'Rajiv Gandhi International Stadium, Uppal',\n",
              "       'Punjab Cricket Association Stadium, Mohali', 'Sawai Mansingh Stadium',\n",
              "       'Dr DY Patil Sports Academy', 'Subrata Roy Sahara Stadium'],\n",
              "      dtype='object', name='venue')"
            ]
          },
          "metadata": {
            "tags": []
          },
          "execution_count": 12
        }
      ]
    },
    {
      "cell_type": "code",
      "metadata": {
        "colab": {
          "base_uri": "https://localhost:8080/"
        },
        "id": "9f68AkhMEnC0",
        "outputId": "df04ddf1-182f-4823-aa18-fe31c865c5f1"
      },
      "source": [
        "# Data before and after removing less used Stadiums (venues)\n",
        "current_venues = ['M Chinnaswamy Stadium', 'Feroz Shah Kotla', 'Eden Gardens',\n",
        "       'Wankhede Stadium', 'MA Chidambaram Stadium, Chepauk',\n",
        "       'Rajiv Gandhi International Stadium, Uppal',\n",
        "       'Punjab Cricket Association Stadium, Mohali', 'Sawai Mansingh Stadium',\n",
        "       'Dr DY Patil Sports Academy','Subrata Roy Sahara Stadium']\n",
        "\n",
        "# Data before removing most used Venues\n",
        "print(f'Data shape before removing less used Stadiums : {df.shape}')\n",
        "\n",
        "df = df[df['venue'].isin(current_venues)]\n",
        "\n",
        "# Data after removing most used Venues\n",
        "print(f'Data shape after removing less used Stadiums : {df.shape}')"
      ],
      "execution_count": 13,
      "outputs": [
        {
          "output_type": "stream",
          "text": [
            "Data shape before removing less used Stadiums : (76014, 10)\n",
            "Data shape after removing less used Stadiums : (52938, 10)\n"
          ],
          "name": "stdout"
        }
      ]
    },
    {
      "cell_type": "markdown",
      "metadata": {
        "id": "vjiXdATrEi-M"
      },
      "source": [
        "#### Keeping only Consistent Teams \n",
        "(teams that never change even in current season)"
      ]
    },
    {
      "cell_type": "code",
      "metadata": {
        "colab": {
          "base_uri": "https://localhost:8080/"
        },
        "id": "VsJouPuXEhEy",
        "outputId": "7d948591-d870-4381-b51c-7be129b774b0"
      },
      "source": [
        "# Unique teams\n",
        "df['bat_team'].unique()"
      ],
      "execution_count": 14,
      "outputs": [
        {
          "output_type": "execute_result",
          "data": {
            "text/plain": [
              "array(['Kolkata Knight Riders', 'Chennai Super Kings', 'Rajasthan Royals',\n",
              "       'Mumbai Indians', 'Deccan Chargers', 'Kings XI Punjab',\n",
              "       'Royal Challengers Bangalore', 'Delhi Daredevils',\n",
              "       'Kochi Tuskers Kerala', 'Pune Warriors', 'Sunrisers Hyderabad',\n",
              "       'Gujarat Lions', 'Rising Pune Supergiants',\n",
              "       'Rising Pune Supergiant'], dtype=object)"
            ]
          },
          "metadata": {
            "tags": []
          },
          "execution_count": 14
        }
      ]
    },
    {
      "cell_type": "code",
      "metadata": {
        "id": "Y-sjpd6uEkw8"
      },
      "source": [
        "# Defining Consistent Teams\n",
        "consistent_teams = ['Kolkata Knight Riders', 'Chennai Super Kings', 'Rajasthan Royals', 'Mumbai Indians',\n",
        "                   'Kings XI Punjab', 'Royal Challengers Bangalore', 'Delhi Daredevils', 'Sunrisers Hyderabad']"
      ],
      "execution_count": 15,
      "outputs": []
    },
    {
      "cell_type": "code",
      "metadata": {
        "colab": {
          "base_uri": "https://localhost:8080/",
          "height": 391
        },
        "id": "_TGXECE8El3o",
        "outputId": "7bc19b1c-cee3-452b-a1f5-23dbcdef38d1"
      },
      "source": [
        "# Data before and after removing Inconsistent teams \n",
        "print(f'Before Removing Inconsistent Teams : {df.shape}')\n",
        "df = df[(df['bat_team'].isin(consistent_teams)) & (df['bowl_team'].isin(consistent_teams))]\n",
        "\n",
        "print(f'After Removing Irrelevant Teams : {df.shape}')\n",
        "print(f\"Consistent Teams : \\n{df['bat_team'].unique()}\")\n",
        "\n",
        "df.head()"
      ],
      "execution_count": 16,
      "outputs": [
        {
          "output_type": "stream",
          "text": [
            "Before Removing Inconsistent Teams : (52938, 10)\n",
            "After Removing Irrelevant Teams : (39112, 10)\n",
            "Consistent Teams : \n",
            "['Kolkata Knight Riders' 'Chennai Super Kings' 'Rajasthan Royals'\n",
            " 'Mumbai Indians' 'Kings XI Punjab' 'Royal Challengers Bangalore'\n",
            " 'Delhi Daredevils' 'Sunrisers Hyderabad']\n"
          ],
          "name": "stdout"
        },
        {
          "output_type": "execute_result",
          "data": {
            "text/html": [
              "<div>\n",
              "<style scoped>\n",
              "    .dataframe tbody tr th:only-of-type {\n",
              "        vertical-align: middle;\n",
              "    }\n",
              "\n",
              "    .dataframe tbody tr th {\n",
              "        vertical-align: top;\n",
              "    }\n",
              "\n",
              "    .dataframe thead th {\n",
              "        text-align: right;\n",
              "    }\n",
              "</style>\n",
              "<table border=\"1\" class=\"dataframe\">\n",
              "  <thead>\n",
              "    <tr style=\"text-align: right;\">\n",
              "      <th></th>\n",
              "      <th>venue</th>\n",
              "      <th>bat_team</th>\n",
              "      <th>bowl_team</th>\n",
              "      <th>runs</th>\n",
              "      <th>wickets</th>\n",
              "      <th>overs</th>\n",
              "      <th>runs_last_5</th>\n",
              "      <th>wickets_last_5</th>\n",
              "      <th>total</th>\n",
              "      <th>count</th>\n",
              "    </tr>\n",
              "  </thead>\n",
              "  <tbody>\n",
              "    <tr>\n",
              "      <th>0</th>\n",
              "      <td>M Chinnaswamy Stadium</td>\n",
              "      <td>Kolkata Knight Riders</td>\n",
              "      <td>Royal Challengers Bangalore</td>\n",
              "      <td>1</td>\n",
              "      <td>0</td>\n",
              "      <td>0.1</td>\n",
              "      <td>1</td>\n",
              "      <td>0</td>\n",
              "      <td>222</td>\n",
              "      <td>1</td>\n",
              "    </tr>\n",
              "    <tr>\n",
              "      <th>1</th>\n",
              "      <td>M Chinnaswamy Stadium</td>\n",
              "      <td>Kolkata Knight Riders</td>\n",
              "      <td>Royal Challengers Bangalore</td>\n",
              "      <td>1</td>\n",
              "      <td>0</td>\n",
              "      <td>0.2</td>\n",
              "      <td>1</td>\n",
              "      <td>0</td>\n",
              "      <td>222</td>\n",
              "      <td>1</td>\n",
              "    </tr>\n",
              "    <tr>\n",
              "      <th>2</th>\n",
              "      <td>M Chinnaswamy Stadium</td>\n",
              "      <td>Kolkata Knight Riders</td>\n",
              "      <td>Royal Challengers Bangalore</td>\n",
              "      <td>2</td>\n",
              "      <td>0</td>\n",
              "      <td>0.2</td>\n",
              "      <td>2</td>\n",
              "      <td>0</td>\n",
              "      <td>222</td>\n",
              "      <td>1</td>\n",
              "    </tr>\n",
              "    <tr>\n",
              "      <th>3</th>\n",
              "      <td>M Chinnaswamy Stadium</td>\n",
              "      <td>Kolkata Knight Riders</td>\n",
              "      <td>Royal Challengers Bangalore</td>\n",
              "      <td>2</td>\n",
              "      <td>0</td>\n",
              "      <td>0.3</td>\n",
              "      <td>2</td>\n",
              "      <td>0</td>\n",
              "      <td>222</td>\n",
              "      <td>1</td>\n",
              "    </tr>\n",
              "    <tr>\n",
              "      <th>4</th>\n",
              "      <td>M Chinnaswamy Stadium</td>\n",
              "      <td>Kolkata Knight Riders</td>\n",
              "      <td>Royal Challengers Bangalore</td>\n",
              "      <td>2</td>\n",
              "      <td>0</td>\n",
              "      <td>0.4</td>\n",
              "      <td>2</td>\n",
              "      <td>0</td>\n",
              "      <td>222</td>\n",
              "      <td>1</td>\n",
              "    </tr>\n",
              "  </tbody>\n",
              "</table>\n",
              "</div>"
            ],
            "text/plain": [
              "                   venue               bat_team  ... total  count\n",
              "0  M Chinnaswamy Stadium  Kolkata Knight Riders  ...   222      1\n",
              "1  M Chinnaswamy Stadium  Kolkata Knight Riders  ...   222      1\n",
              "2  M Chinnaswamy Stadium  Kolkata Knight Riders  ...   222      1\n",
              "3  M Chinnaswamy Stadium  Kolkata Knight Riders  ...   222      1\n",
              "4  M Chinnaswamy Stadium  Kolkata Knight Riders  ...   222      1\n",
              "\n",
              "[5 rows x 10 columns]"
            ]
          },
          "metadata": {
            "tags": []
          },
          "execution_count": 16
        }
      ]
    },
    {
      "cell_type": "code",
      "metadata": {
        "id": "1xAYPUM-Eo--"
      },
      "source": [
        "# Removing the first 5 overs data in every match\n",
        "df = df[df['overs']>=5.0]"
      ],
      "execution_count": 17,
      "outputs": []
    },
    {
      "cell_type": "code",
      "metadata": {
        "colab": {
          "base_uri": "https://localhost:8080/"
        },
        "id": "WH-kZkt6EqiN",
        "outputId": "24d74b0d-ce3e-46d8-928a-b8b30c15979b"
      },
      "source": [
        "# Shape of the data after removing the first 5 overs data\n",
        "df.shape"
      ],
      "execution_count": 18,
      "outputs": [
        {
          "output_type": "execute_result",
          "data": {
            "text/plain": [
              "(29145, 10)"
            ]
          },
          "metadata": {
            "tags": []
          },
          "execution_count": 18
        }
      ]
    },
    {
      "cell_type": "code",
      "metadata": {
        "id": "f8d35nsoEr1o"
      },
      "source": [
        "# Dropping the column count from dataframe\n",
        "df.drop(['count'],axis=1,inplace=True)"
      ],
      "execution_count": 19,
      "outputs": []
    },
    {
      "cell_type": "markdown",
      "metadata": {
        "id": "Nmg965b013-H"
      },
      "source": [
        "### Data Preprocessing"
      ]
    },
    {
      "cell_type": "code",
      "metadata": {
        "colab": {
          "base_uri": "https://localhost:8080/",
          "height": 292
        },
        "id": "_VijJlwFEuCc",
        "outputId": "e016620f-1608-4584-a815-15471291902a"
      },
      "source": [
        "# --- Data Preprocessing ---\n",
        "# Converting categorical features using OneHotEncoding method\n",
        "encoded_df = pd.get_dummies(data=df, columns=['bat_team', 'bowl_team', 'venue'])\n",
        "encoded_df.head()"
      ],
      "execution_count": 20,
      "outputs": [
        {
          "output_type": "execute_result",
          "data": {
            "text/html": [
              "<div>\n",
              "<style scoped>\n",
              "    .dataframe tbody tr th:only-of-type {\n",
              "        vertical-align: middle;\n",
              "    }\n",
              "\n",
              "    .dataframe tbody tr th {\n",
              "        vertical-align: top;\n",
              "    }\n",
              "\n",
              "    .dataframe thead th {\n",
              "        text-align: right;\n",
              "    }\n",
              "</style>\n",
              "<table border=\"1\" class=\"dataframe\">\n",
              "  <thead>\n",
              "    <tr style=\"text-align: right;\">\n",
              "      <th></th>\n",
              "      <th>runs</th>\n",
              "      <th>wickets</th>\n",
              "      <th>overs</th>\n",
              "      <th>runs_last_5</th>\n",
              "      <th>wickets_last_5</th>\n",
              "      <th>total</th>\n",
              "      <th>bat_team_Chennai Super Kings</th>\n",
              "      <th>bat_team_Delhi Daredevils</th>\n",
              "      <th>bat_team_Kings XI Punjab</th>\n",
              "      <th>bat_team_Kolkata Knight Riders</th>\n",
              "      <th>bat_team_Mumbai Indians</th>\n",
              "      <th>bat_team_Rajasthan Royals</th>\n",
              "      <th>bat_team_Royal Challengers Bangalore</th>\n",
              "      <th>bat_team_Sunrisers Hyderabad</th>\n",
              "      <th>bowl_team_Chennai Super Kings</th>\n",
              "      <th>bowl_team_Delhi Daredevils</th>\n",
              "      <th>bowl_team_Kings XI Punjab</th>\n",
              "      <th>bowl_team_Kolkata Knight Riders</th>\n",
              "      <th>bowl_team_Mumbai Indians</th>\n",
              "      <th>bowl_team_Rajasthan Royals</th>\n",
              "      <th>bowl_team_Royal Challengers Bangalore</th>\n",
              "      <th>bowl_team_Sunrisers Hyderabad</th>\n",
              "      <th>venue_Dr DY Patil Sports Academy</th>\n",
              "      <th>venue_Eden Gardens</th>\n",
              "      <th>venue_Feroz Shah Kotla</th>\n",
              "      <th>venue_M Chinnaswamy Stadium</th>\n",
              "      <th>venue_MA Chidambaram Stadium, Chepauk</th>\n",
              "      <th>venue_Punjab Cricket Association Stadium, Mohali</th>\n",
              "      <th>venue_Rajiv Gandhi International Stadium, Uppal</th>\n",
              "      <th>venue_Sawai Mansingh Stadium</th>\n",
              "      <th>venue_Subrata Roy Sahara Stadium</th>\n",
              "      <th>venue_Wankhede Stadium</th>\n",
              "    </tr>\n",
              "  </thead>\n",
              "  <tbody>\n",
              "    <tr>\n",
              "      <th>32</th>\n",
              "      <td>61</td>\n",
              "      <td>0</td>\n",
              "      <td>5.1</td>\n",
              "      <td>59</td>\n",
              "      <td>0</td>\n",
              "      <td>222</td>\n",
              "      <td>0</td>\n",
              "      <td>0</td>\n",
              "      <td>0</td>\n",
              "      <td>1</td>\n",
              "      <td>0</td>\n",
              "      <td>0</td>\n",
              "      <td>0</td>\n",
              "      <td>0</td>\n",
              "      <td>0</td>\n",
              "      <td>0</td>\n",
              "      <td>0</td>\n",
              "      <td>0</td>\n",
              "      <td>0</td>\n",
              "      <td>0</td>\n",
              "      <td>1</td>\n",
              "      <td>0</td>\n",
              "      <td>0</td>\n",
              "      <td>0</td>\n",
              "      <td>0</td>\n",
              "      <td>1</td>\n",
              "      <td>0</td>\n",
              "      <td>0</td>\n",
              "      <td>0</td>\n",
              "      <td>0</td>\n",
              "      <td>0</td>\n",
              "      <td>0</td>\n",
              "    </tr>\n",
              "    <tr>\n",
              "      <th>33</th>\n",
              "      <td>61</td>\n",
              "      <td>1</td>\n",
              "      <td>5.2</td>\n",
              "      <td>59</td>\n",
              "      <td>1</td>\n",
              "      <td>222</td>\n",
              "      <td>0</td>\n",
              "      <td>0</td>\n",
              "      <td>0</td>\n",
              "      <td>1</td>\n",
              "      <td>0</td>\n",
              "      <td>0</td>\n",
              "      <td>0</td>\n",
              "      <td>0</td>\n",
              "      <td>0</td>\n",
              "      <td>0</td>\n",
              "      <td>0</td>\n",
              "      <td>0</td>\n",
              "      <td>0</td>\n",
              "      <td>0</td>\n",
              "      <td>1</td>\n",
              "      <td>0</td>\n",
              "      <td>0</td>\n",
              "      <td>0</td>\n",
              "      <td>0</td>\n",
              "      <td>1</td>\n",
              "      <td>0</td>\n",
              "      <td>0</td>\n",
              "      <td>0</td>\n",
              "      <td>0</td>\n",
              "      <td>0</td>\n",
              "      <td>0</td>\n",
              "    </tr>\n",
              "    <tr>\n",
              "      <th>34</th>\n",
              "      <td>61</td>\n",
              "      <td>1</td>\n",
              "      <td>5.3</td>\n",
              "      <td>59</td>\n",
              "      <td>1</td>\n",
              "      <td>222</td>\n",
              "      <td>0</td>\n",
              "      <td>0</td>\n",
              "      <td>0</td>\n",
              "      <td>1</td>\n",
              "      <td>0</td>\n",
              "      <td>0</td>\n",
              "      <td>0</td>\n",
              "      <td>0</td>\n",
              "      <td>0</td>\n",
              "      <td>0</td>\n",
              "      <td>0</td>\n",
              "      <td>0</td>\n",
              "      <td>0</td>\n",
              "      <td>0</td>\n",
              "      <td>1</td>\n",
              "      <td>0</td>\n",
              "      <td>0</td>\n",
              "      <td>0</td>\n",
              "      <td>0</td>\n",
              "      <td>1</td>\n",
              "      <td>0</td>\n",
              "      <td>0</td>\n",
              "      <td>0</td>\n",
              "      <td>0</td>\n",
              "      <td>0</td>\n",
              "      <td>0</td>\n",
              "    </tr>\n",
              "    <tr>\n",
              "      <th>35</th>\n",
              "      <td>61</td>\n",
              "      <td>1</td>\n",
              "      <td>5.4</td>\n",
              "      <td>59</td>\n",
              "      <td>1</td>\n",
              "      <td>222</td>\n",
              "      <td>0</td>\n",
              "      <td>0</td>\n",
              "      <td>0</td>\n",
              "      <td>1</td>\n",
              "      <td>0</td>\n",
              "      <td>0</td>\n",
              "      <td>0</td>\n",
              "      <td>0</td>\n",
              "      <td>0</td>\n",
              "      <td>0</td>\n",
              "      <td>0</td>\n",
              "      <td>0</td>\n",
              "      <td>0</td>\n",
              "      <td>0</td>\n",
              "      <td>1</td>\n",
              "      <td>0</td>\n",
              "      <td>0</td>\n",
              "      <td>0</td>\n",
              "      <td>0</td>\n",
              "      <td>1</td>\n",
              "      <td>0</td>\n",
              "      <td>0</td>\n",
              "      <td>0</td>\n",
              "      <td>0</td>\n",
              "      <td>0</td>\n",
              "      <td>0</td>\n",
              "    </tr>\n",
              "    <tr>\n",
              "      <th>36</th>\n",
              "      <td>61</td>\n",
              "      <td>1</td>\n",
              "      <td>5.5</td>\n",
              "      <td>58</td>\n",
              "      <td>1</td>\n",
              "      <td>222</td>\n",
              "      <td>0</td>\n",
              "      <td>0</td>\n",
              "      <td>0</td>\n",
              "      <td>1</td>\n",
              "      <td>0</td>\n",
              "      <td>0</td>\n",
              "      <td>0</td>\n",
              "      <td>0</td>\n",
              "      <td>0</td>\n",
              "      <td>0</td>\n",
              "      <td>0</td>\n",
              "      <td>0</td>\n",
              "      <td>0</td>\n",
              "      <td>0</td>\n",
              "      <td>1</td>\n",
              "      <td>0</td>\n",
              "      <td>0</td>\n",
              "      <td>0</td>\n",
              "      <td>0</td>\n",
              "      <td>1</td>\n",
              "      <td>0</td>\n",
              "      <td>0</td>\n",
              "      <td>0</td>\n",
              "      <td>0</td>\n",
              "      <td>0</td>\n",
              "      <td>0</td>\n",
              "    </tr>\n",
              "  </tbody>\n",
              "</table>\n",
              "</div>"
            ],
            "text/plain": [
              "    runs  wickets  ...  venue_Subrata Roy Sahara Stadium  venue_Wankhede Stadium\n",
              "32    61        0  ...                                 0                       0\n",
              "33    61        1  ...                                 0                       0\n",
              "34    61        1  ...                                 0                       0\n",
              "35    61        1  ...                                 0                       0\n",
              "36    61        1  ...                                 0                       0\n",
              "\n",
              "[5 rows x 32 columns]"
            ]
          },
          "metadata": {
            "tags": []
          },
          "execution_count": 20
        }
      ]
    },
    {
      "cell_type": "code",
      "metadata": {
        "colab": {
          "base_uri": "https://localhost:8080/"
        },
        "id": "HW8vIWXCEyGx",
        "outputId": "8b174a26-9e29-4f95-9dd8-cdf65f006fd1"
      },
      "source": [
        "# printing all the columns from 'encoded_df' DataFrame\n",
        "encoded_df.columns"
      ],
      "execution_count": 21,
      "outputs": [
        {
          "output_type": "execute_result",
          "data": {
            "text/plain": [
              "Index(['runs', 'wickets', 'overs', 'runs_last_5', 'wickets_last_5', 'total',\n",
              "       'bat_team_Chennai Super Kings', 'bat_team_Delhi Daredevils',\n",
              "       'bat_team_Kings XI Punjab', 'bat_team_Kolkata Knight Riders',\n",
              "       'bat_team_Mumbai Indians', 'bat_team_Rajasthan Royals',\n",
              "       'bat_team_Royal Challengers Bangalore', 'bat_team_Sunrisers Hyderabad',\n",
              "       'bowl_team_Chennai Super Kings', 'bowl_team_Delhi Daredevils',\n",
              "       'bowl_team_Kings XI Punjab', 'bowl_team_Kolkata Knight Riders',\n",
              "       'bowl_team_Mumbai Indians', 'bowl_team_Rajasthan Royals',\n",
              "       'bowl_team_Royal Challengers Bangalore',\n",
              "       'bowl_team_Sunrisers Hyderabad', 'venue_Dr DY Patil Sports Academy',\n",
              "       'venue_Eden Gardens', 'venue_Feroz Shah Kotla',\n",
              "       'venue_M Chinnaswamy Stadium', 'venue_MA Chidambaram Stadium, Chepauk',\n",
              "       'venue_Punjab Cricket Association Stadium, Mohali',\n",
              "       'venue_Rajiv Gandhi International Stadium, Uppal',\n",
              "       'venue_Sawai Mansingh Stadium', 'venue_Subrata Roy Sahara Stadium',\n",
              "       'venue_Wankhede Stadium'],\n",
              "      dtype='object')"
            ]
          },
          "metadata": {
            "tags": []
          },
          "execution_count": 21
        }
      ]
    },
    {
      "cell_type": "code",
      "metadata": {
        "id": "2wKWgt5EE0aT"
      },
      "source": [
        "# Rearranging the columns\n",
        "final_df = encoded_df[['bat_team_Chennai Super Kings', 'bat_team_Delhi Daredevils',\n",
        "       'bat_team_Kings XI Punjab', 'bat_team_Kolkata Knight Riders',\n",
        "       'bat_team_Mumbai Indians', 'bat_team_Rajasthan Royals',\n",
        "       'bat_team_Royal Challengers Bangalore', 'bat_team_Sunrisers Hyderabad',\n",
        "       'bowl_team_Chennai Super Kings', 'bowl_team_Delhi Daredevils',\n",
        "       'bowl_team_Kings XI Punjab', 'bowl_team_Kolkata Knight Riders',\n",
        "       'bowl_team_Mumbai Indians', 'bowl_team_Rajasthan Royals',\n",
        "       'bowl_team_Royal Challengers Bangalore',\n",
        "       'bowl_team_Sunrisers Hyderabad', 'venue_Dr DY Patil Sports Academy',\n",
        "       'venue_Eden Gardens', 'venue_Feroz Shah Kotla',\n",
        "       'venue_M Chinnaswamy Stadium', 'venue_MA Chidambaram Stadium, Chepauk',\n",
        "       'venue_Punjab Cricket Association Stadium, Mohali',\n",
        "       'venue_Rajiv Gandhi International Stadium, Uppal',\n",
        "       'venue_Sawai Mansingh Stadium', 'venue_Subrata Roy Sahara Stadium',\n",
        "       'venue_Wankhede Stadium', 'overs','runs', 'wickets', 'runs_last_5', 'wickets_last_5',\n",
        "       'total']]"
      ],
      "execution_count": 22,
      "outputs": []
    },
    {
      "cell_type": "code",
      "metadata": {
        "colab": {
          "base_uri": "https://localhost:8080/",
          "height": 292
        },
        "id": "1T1AcldKE2Hi",
        "outputId": "823e38dd-ab69-41cb-bac3-23d2dda2fbca"
      },
      "source": [
        "# selecting top 5 records in 'final_df' Dataframe\n",
        "final_df.head()"
      ],
      "execution_count": 23,
      "outputs": [
        {
          "output_type": "execute_result",
          "data": {
            "text/html": [
              "<div>\n",
              "<style scoped>\n",
              "    .dataframe tbody tr th:only-of-type {\n",
              "        vertical-align: middle;\n",
              "    }\n",
              "\n",
              "    .dataframe tbody tr th {\n",
              "        vertical-align: top;\n",
              "    }\n",
              "\n",
              "    .dataframe thead th {\n",
              "        text-align: right;\n",
              "    }\n",
              "</style>\n",
              "<table border=\"1\" class=\"dataframe\">\n",
              "  <thead>\n",
              "    <tr style=\"text-align: right;\">\n",
              "      <th></th>\n",
              "      <th>bat_team_Chennai Super Kings</th>\n",
              "      <th>bat_team_Delhi Daredevils</th>\n",
              "      <th>bat_team_Kings XI Punjab</th>\n",
              "      <th>bat_team_Kolkata Knight Riders</th>\n",
              "      <th>bat_team_Mumbai Indians</th>\n",
              "      <th>bat_team_Rajasthan Royals</th>\n",
              "      <th>bat_team_Royal Challengers Bangalore</th>\n",
              "      <th>bat_team_Sunrisers Hyderabad</th>\n",
              "      <th>bowl_team_Chennai Super Kings</th>\n",
              "      <th>bowl_team_Delhi Daredevils</th>\n",
              "      <th>bowl_team_Kings XI Punjab</th>\n",
              "      <th>bowl_team_Kolkata Knight Riders</th>\n",
              "      <th>bowl_team_Mumbai Indians</th>\n",
              "      <th>bowl_team_Rajasthan Royals</th>\n",
              "      <th>bowl_team_Royal Challengers Bangalore</th>\n",
              "      <th>bowl_team_Sunrisers Hyderabad</th>\n",
              "      <th>venue_Dr DY Patil Sports Academy</th>\n",
              "      <th>venue_Eden Gardens</th>\n",
              "      <th>venue_Feroz Shah Kotla</th>\n",
              "      <th>venue_M Chinnaswamy Stadium</th>\n",
              "      <th>venue_MA Chidambaram Stadium, Chepauk</th>\n",
              "      <th>venue_Punjab Cricket Association Stadium, Mohali</th>\n",
              "      <th>venue_Rajiv Gandhi International Stadium, Uppal</th>\n",
              "      <th>venue_Sawai Mansingh Stadium</th>\n",
              "      <th>venue_Subrata Roy Sahara Stadium</th>\n",
              "      <th>venue_Wankhede Stadium</th>\n",
              "      <th>overs</th>\n",
              "      <th>runs</th>\n",
              "      <th>wickets</th>\n",
              "      <th>runs_last_5</th>\n",
              "      <th>wickets_last_5</th>\n",
              "      <th>total</th>\n",
              "    </tr>\n",
              "  </thead>\n",
              "  <tbody>\n",
              "    <tr>\n",
              "      <th>32</th>\n",
              "      <td>0</td>\n",
              "      <td>0</td>\n",
              "      <td>0</td>\n",
              "      <td>1</td>\n",
              "      <td>0</td>\n",
              "      <td>0</td>\n",
              "      <td>0</td>\n",
              "      <td>0</td>\n",
              "      <td>0</td>\n",
              "      <td>0</td>\n",
              "      <td>0</td>\n",
              "      <td>0</td>\n",
              "      <td>0</td>\n",
              "      <td>0</td>\n",
              "      <td>1</td>\n",
              "      <td>0</td>\n",
              "      <td>0</td>\n",
              "      <td>0</td>\n",
              "      <td>0</td>\n",
              "      <td>1</td>\n",
              "      <td>0</td>\n",
              "      <td>0</td>\n",
              "      <td>0</td>\n",
              "      <td>0</td>\n",
              "      <td>0</td>\n",
              "      <td>0</td>\n",
              "      <td>5.1</td>\n",
              "      <td>61</td>\n",
              "      <td>0</td>\n",
              "      <td>59</td>\n",
              "      <td>0</td>\n",
              "      <td>222</td>\n",
              "    </tr>\n",
              "    <tr>\n",
              "      <th>33</th>\n",
              "      <td>0</td>\n",
              "      <td>0</td>\n",
              "      <td>0</td>\n",
              "      <td>1</td>\n",
              "      <td>0</td>\n",
              "      <td>0</td>\n",
              "      <td>0</td>\n",
              "      <td>0</td>\n",
              "      <td>0</td>\n",
              "      <td>0</td>\n",
              "      <td>0</td>\n",
              "      <td>0</td>\n",
              "      <td>0</td>\n",
              "      <td>0</td>\n",
              "      <td>1</td>\n",
              "      <td>0</td>\n",
              "      <td>0</td>\n",
              "      <td>0</td>\n",
              "      <td>0</td>\n",
              "      <td>1</td>\n",
              "      <td>0</td>\n",
              "      <td>0</td>\n",
              "      <td>0</td>\n",
              "      <td>0</td>\n",
              "      <td>0</td>\n",
              "      <td>0</td>\n",
              "      <td>5.2</td>\n",
              "      <td>61</td>\n",
              "      <td>1</td>\n",
              "      <td>59</td>\n",
              "      <td>1</td>\n",
              "      <td>222</td>\n",
              "    </tr>\n",
              "    <tr>\n",
              "      <th>34</th>\n",
              "      <td>0</td>\n",
              "      <td>0</td>\n",
              "      <td>0</td>\n",
              "      <td>1</td>\n",
              "      <td>0</td>\n",
              "      <td>0</td>\n",
              "      <td>0</td>\n",
              "      <td>0</td>\n",
              "      <td>0</td>\n",
              "      <td>0</td>\n",
              "      <td>0</td>\n",
              "      <td>0</td>\n",
              "      <td>0</td>\n",
              "      <td>0</td>\n",
              "      <td>1</td>\n",
              "      <td>0</td>\n",
              "      <td>0</td>\n",
              "      <td>0</td>\n",
              "      <td>0</td>\n",
              "      <td>1</td>\n",
              "      <td>0</td>\n",
              "      <td>0</td>\n",
              "      <td>0</td>\n",
              "      <td>0</td>\n",
              "      <td>0</td>\n",
              "      <td>0</td>\n",
              "      <td>5.3</td>\n",
              "      <td>61</td>\n",
              "      <td>1</td>\n",
              "      <td>59</td>\n",
              "      <td>1</td>\n",
              "      <td>222</td>\n",
              "    </tr>\n",
              "    <tr>\n",
              "      <th>35</th>\n",
              "      <td>0</td>\n",
              "      <td>0</td>\n",
              "      <td>0</td>\n",
              "      <td>1</td>\n",
              "      <td>0</td>\n",
              "      <td>0</td>\n",
              "      <td>0</td>\n",
              "      <td>0</td>\n",
              "      <td>0</td>\n",
              "      <td>0</td>\n",
              "      <td>0</td>\n",
              "      <td>0</td>\n",
              "      <td>0</td>\n",
              "      <td>0</td>\n",
              "      <td>1</td>\n",
              "      <td>0</td>\n",
              "      <td>0</td>\n",
              "      <td>0</td>\n",
              "      <td>0</td>\n",
              "      <td>1</td>\n",
              "      <td>0</td>\n",
              "      <td>0</td>\n",
              "      <td>0</td>\n",
              "      <td>0</td>\n",
              "      <td>0</td>\n",
              "      <td>0</td>\n",
              "      <td>5.4</td>\n",
              "      <td>61</td>\n",
              "      <td>1</td>\n",
              "      <td>59</td>\n",
              "      <td>1</td>\n",
              "      <td>222</td>\n",
              "    </tr>\n",
              "    <tr>\n",
              "      <th>36</th>\n",
              "      <td>0</td>\n",
              "      <td>0</td>\n",
              "      <td>0</td>\n",
              "      <td>1</td>\n",
              "      <td>0</td>\n",
              "      <td>0</td>\n",
              "      <td>0</td>\n",
              "      <td>0</td>\n",
              "      <td>0</td>\n",
              "      <td>0</td>\n",
              "      <td>0</td>\n",
              "      <td>0</td>\n",
              "      <td>0</td>\n",
              "      <td>0</td>\n",
              "      <td>1</td>\n",
              "      <td>0</td>\n",
              "      <td>0</td>\n",
              "      <td>0</td>\n",
              "      <td>0</td>\n",
              "      <td>1</td>\n",
              "      <td>0</td>\n",
              "      <td>0</td>\n",
              "      <td>0</td>\n",
              "      <td>0</td>\n",
              "      <td>0</td>\n",
              "      <td>0</td>\n",
              "      <td>5.5</td>\n",
              "      <td>61</td>\n",
              "      <td>1</td>\n",
              "      <td>58</td>\n",
              "      <td>1</td>\n",
              "      <td>222</td>\n",
              "    </tr>\n",
              "  </tbody>\n",
              "</table>\n",
              "</div>"
            ],
            "text/plain": [
              "    bat_team_Chennai Super Kings  ...  total\n",
              "32                             0  ...    222\n",
              "33                             0  ...    222\n",
              "34                             0  ...    222\n",
              "35                             0  ...    222\n",
              "36                             0  ...    222\n",
              "\n",
              "[5 rows x 32 columns]"
            ]
          },
          "metadata": {
            "tags": []
          },
          "execution_count": 23
        }
      ]
    },
    {
      "cell_type": "markdown",
      "metadata": {
        "id": "l1xGACLLFMEX"
      },
      "source": [
        "### Dividing the data into X(Dependent Features) and y(Independent Features)"
      ]
    },
    {
      "cell_type": "code",
      "metadata": {
        "id": "BzkE-DH8FJXw"
      },
      "source": [
        "# Dividing data into Dependent and Independent Features\n",
        "X = final_df.iloc[:,:-1]\n",
        "y = final_df.iloc[:,-1]"
      ],
      "execution_count": 24,
      "outputs": []
    },
    {
      "cell_type": "code",
      "metadata": {
        "colab": {
          "base_uri": "https://localhost:8080/",
          "height": 199
        },
        "id": "dfnDdXecrEwY",
        "outputId": "f531c7fe-3b40-4d42-ea93-ca58bfb1f21d"
      },
      "source": [
        "X.head(2)"
      ],
      "execution_count": 25,
      "outputs": [
        {
          "output_type": "execute_result",
          "data": {
            "text/html": [
              "<div>\n",
              "<style scoped>\n",
              "    .dataframe tbody tr th:only-of-type {\n",
              "        vertical-align: middle;\n",
              "    }\n",
              "\n",
              "    .dataframe tbody tr th {\n",
              "        vertical-align: top;\n",
              "    }\n",
              "\n",
              "    .dataframe thead th {\n",
              "        text-align: right;\n",
              "    }\n",
              "</style>\n",
              "<table border=\"1\" class=\"dataframe\">\n",
              "  <thead>\n",
              "    <tr style=\"text-align: right;\">\n",
              "      <th></th>\n",
              "      <th>bat_team_Chennai Super Kings</th>\n",
              "      <th>bat_team_Delhi Daredevils</th>\n",
              "      <th>bat_team_Kings XI Punjab</th>\n",
              "      <th>bat_team_Kolkata Knight Riders</th>\n",
              "      <th>bat_team_Mumbai Indians</th>\n",
              "      <th>bat_team_Rajasthan Royals</th>\n",
              "      <th>bat_team_Royal Challengers Bangalore</th>\n",
              "      <th>bat_team_Sunrisers Hyderabad</th>\n",
              "      <th>bowl_team_Chennai Super Kings</th>\n",
              "      <th>bowl_team_Delhi Daredevils</th>\n",
              "      <th>bowl_team_Kings XI Punjab</th>\n",
              "      <th>bowl_team_Kolkata Knight Riders</th>\n",
              "      <th>bowl_team_Mumbai Indians</th>\n",
              "      <th>bowl_team_Rajasthan Royals</th>\n",
              "      <th>bowl_team_Royal Challengers Bangalore</th>\n",
              "      <th>bowl_team_Sunrisers Hyderabad</th>\n",
              "      <th>venue_Dr DY Patil Sports Academy</th>\n",
              "      <th>venue_Eden Gardens</th>\n",
              "      <th>venue_Feroz Shah Kotla</th>\n",
              "      <th>venue_M Chinnaswamy Stadium</th>\n",
              "      <th>venue_MA Chidambaram Stadium, Chepauk</th>\n",
              "      <th>venue_Punjab Cricket Association Stadium, Mohali</th>\n",
              "      <th>venue_Rajiv Gandhi International Stadium, Uppal</th>\n",
              "      <th>venue_Sawai Mansingh Stadium</th>\n",
              "      <th>venue_Subrata Roy Sahara Stadium</th>\n",
              "      <th>venue_Wankhede Stadium</th>\n",
              "      <th>overs</th>\n",
              "      <th>runs</th>\n",
              "      <th>wickets</th>\n",
              "      <th>runs_last_5</th>\n",
              "      <th>wickets_last_5</th>\n",
              "    </tr>\n",
              "  </thead>\n",
              "  <tbody>\n",
              "    <tr>\n",
              "      <th>32</th>\n",
              "      <td>0</td>\n",
              "      <td>0</td>\n",
              "      <td>0</td>\n",
              "      <td>1</td>\n",
              "      <td>0</td>\n",
              "      <td>0</td>\n",
              "      <td>0</td>\n",
              "      <td>0</td>\n",
              "      <td>0</td>\n",
              "      <td>0</td>\n",
              "      <td>0</td>\n",
              "      <td>0</td>\n",
              "      <td>0</td>\n",
              "      <td>0</td>\n",
              "      <td>1</td>\n",
              "      <td>0</td>\n",
              "      <td>0</td>\n",
              "      <td>0</td>\n",
              "      <td>0</td>\n",
              "      <td>1</td>\n",
              "      <td>0</td>\n",
              "      <td>0</td>\n",
              "      <td>0</td>\n",
              "      <td>0</td>\n",
              "      <td>0</td>\n",
              "      <td>0</td>\n",
              "      <td>5.1</td>\n",
              "      <td>61</td>\n",
              "      <td>0</td>\n",
              "      <td>59</td>\n",
              "      <td>0</td>\n",
              "    </tr>\n",
              "    <tr>\n",
              "      <th>33</th>\n",
              "      <td>0</td>\n",
              "      <td>0</td>\n",
              "      <td>0</td>\n",
              "      <td>1</td>\n",
              "      <td>0</td>\n",
              "      <td>0</td>\n",
              "      <td>0</td>\n",
              "      <td>0</td>\n",
              "      <td>0</td>\n",
              "      <td>0</td>\n",
              "      <td>0</td>\n",
              "      <td>0</td>\n",
              "      <td>0</td>\n",
              "      <td>0</td>\n",
              "      <td>1</td>\n",
              "      <td>0</td>\n",
              "      <td>0</td>\n",
              "      <td>0</td>\n",
              "      <td>0</td>\n",
              "      <td>1</td>\n",
              "      <td>0</td>\n",
              "      <td>0</td>\n",
              "      <td>0</td>\n",
              "      <td>0</td>\n",
              "      <td>0</td>\n",
              "      <td>0</td>\n",
              "      <td>5.2</td>\n",
              "      <td>61</td>\n",
              "      <td>1</td>\n",
              "      <td>59</td>\n",
              "      <td>1</td>\n",
              "    </tr>\n",
              "  </tbody>\n",
              "</table>\n",
              "</div>"
            ],
            "text/plain": [
              "    bat_team_Chennai Super Kings  ...  wickets_last_5\n",
              "32                             0  ...               0\n",
              "33                             0  ...               1\n",
              "\n",
              "[2 rows x 31 columns]"
            ]
          },
          "metadata": {
            "tags": []
          },
          "execution_count": 25
        }
      ]
    },
    {
      "cell_type": "code",
      "metadata": {
        "colab": {
          "base_uri": "https://localhost:8080/"
        },
        "id": "w7TmNwXtrGb_",
        "outputId": "3cddecc6-2775-48a1-9ea5-e093cfb4f5f9"
      },
      "source": [
        "y.head(2)"
      ],
      "execution_count": 26,
      "outputs": [
        {
          "output_type": "execute_result",
          "data": {
            "text/plain": [
              "32    222\n",
              "33    222\n",
              "Name: total, dtype: int64"
            ]
          },
          "metadata": {
            "tags": []
          },
          "execution_count": 26
        }
      ]
    },
    {
      "cell_type": "code",
      "metadata": {
        "id": "FbTjhWZ0FQjd"
      },
      "source": [
        "# train_testa_split of data\n",
        "from sklearn.model_selection import train_test_split\n",
        "X_train, X_test, y_train, y_test = train_test_split(X,y, test_size=0.2, random_state=0)"
      ],
      "execution_count": 27,
      "outputs": []
    },
    {
      "cell_type": "markdown",
      "metadata": {
        "id": "O_2-4pke2VWT"
      },
      "source": [
        "### Defining a dictionary to store the model's accuracy"
      ]
    },
    {
      "cell_type": "code",
      "metadata": {
        "colab": {
          "base_uri": "https://localhost:8080/"
        },
        "id": "fF_FxoYR2Y4G",
        "outputId": "27c1dc92-fe1c-4fc4-cd48-be7f2bee8045"
      },
      "source": [
        "# creating a dictionarty to store the model's accuracy\n",
        "models = dict()\n",
        "print(models)"
      ],
      "execution_count": 28,
      "outputs": [
        {
          "output_type": "stream",
          "text": [
            "{}\n"
          ],
          "name": "stdout"
        }
      ]
    },
    {
      "cell_type": "markdown",
      "metadata": {
        "id": "BdYGnC9MFYQa"
      },
      "source": [
        "# LinearRegression"
      ]
    },
    {
      "cell_type": "code",
      "metadata": {
        "id": "JQ4Wi838FVK0"
      },
      "source": [
        "# Importing LinearRegression\n",
        "from sklearn.linear_model import LinearRegression\n",
        "\n",
        "# Instantiating the LinearRegression Model\n",
        "linear_reg = LinearRegression()\n",
        "\n",
        "# Fitting the linear_regression object on training data\n",
        "linear_reg.fit(X_train,y_train)\n",
        "\n",
        "# Predicting the data\n",
        "y_pred = linear_reg.predict(X_test)"
      ],
      "execution_count": 29,
      "outputs": []
    },
    {
      "cell_type": "code",
      "metadata": {
        "colab": {
          "base_uri": "https://localhost:8080/"
        },
        "id": "NJUgrs7E26C4",
        "outputId": "8952d0e9-e59b-4395-ef88-e7fcee5ec172"
      },
      "source": [
        "### --- Linear Regression - Model Evaluation ---\n",
        "from sklearn.metrics import r2_score, mean_absolute_error, mean_squared_error\n",
        "\n",
        "# calculate R2 score to measure the accuracy of our model\n",
        "print('R2 of LinearRegression model: ', r2_score(y_test,y_pred))"
      ],
      "execution_count": 30,
      "outputs": [
        {
          "output_type": "stream",
          "text": [
            "R2 of LinearRegression model:  0.6652941707313291\n"
          ],
          "name": "stdout"
        }
      ]
    },
    {
      "cell_type": "code",
      "metadata": {
        "colab": {
          "base_uri": "https://localhost:8080/"
        },
        "id": "obP4uFcE3d-L",
        "outputId": "284065a2-9c51-43c8-e8f9-1352ce8f18bf"
      },
      "source": [
        "# checking the test score of linear regression model\n",
        "test_score_linreg = linear_reg.score(X_test, y_test)\n",
        "test_score_linreg\n",
        "\n",
        "# adding the linreg score in models dict\n",
        "models[\"linreg\"] = test_score_linreg\n",
        "print(models)"
      ],
      "execution_count": 31,
      "outputs": [
        {
          "output_type": "stream",
          "text": [
            "{'linreg': 0.6652941707313291}\n"
          ],
          "name": "stdout"
        }
      ]
    },
    {
      "cell_type": "code",
      "metadata": {
        "colab": {
          "base_uri": "https://localhost:8080/"
        },
        "id": "hxknJO2X3Sk2",
        "outputId": "4befb018-d7fe-421f-e4ef-ec740f03bcda"
      },
      "source": [
        "## Linear Regression - Model Evaluation\n",
        "print(\"---- Linear Regression - Model Evaluation ----\")\n",
        "\n",
        "print(\"Mean Absolute Error (MAE): {}\".format(mean_absolute_error(y_test, y_pred)))\n",
        "print(\"Mean Squared Error (MSE): {}\".format(mean_squared_error(y_test, y_pred)))\n",
        "print(\"Root Mean Absolute Error (MAE): {}\".format(np.sqrt(mean_squared_error(y_test, y_pred))))"
      ],
      "execution_count": 32,
      "outputs": [
        {
          "output_type": "stream",
          "text": [
            "---- Linear Regression - Model Evaluation ----\n",
            "Mean Absolute Error (MAE): 12.854475647225243\n",
            "Mean Squared Error (MSE): 297.8946618721768\n",
            "Root Mean Absolute Error (MAE): 17.259625195008635\n"
          ],
          "name": "stdout"
        }
      ]
    },
    {
      "cell_type": "code",
      "metadata": {
        "colab": {
          "base_uri": "https://localhost:8080/",
          "height": 350
        },
        "id": "eMaaqZlw3XNM",
        "outputId": "3d4c5398-4458-4557-f7f7-929ec97e48d0"
      },
      "source": [
        "# checking the distribution of test and predicted values\n",
        "import seaborn as sns\n",
        "sns.distplot(y_test - y_pred, hist=True, color=\"b\",label='Linear Regression')\n",
        "plt.legend()"
      ],
      "execution_count": 33,
      "outputs": [
        {
          "output_type": "stream",
          "text": [
            "/usr/local/lib/python3.7/dist-packages/seaborn/distributions.py:2557: FutureWarning: `distplot` is a deprecated function and will be removed in a future version. Please adapt your code to use either `displot` (a figure-level function with similar flexibility) or `histplot` (an axes-level function for histograms).\n",
            "  warnings.warn(msg, FutureWarning)\n"
          ],
          "name": "stderr"
        },
        {
          "output_type": "execute_result",
          "data": {
            "text/plain": [
              "<matplotlib.legend.Legend at 0x7f1236ab78d0>"
            ]
          },
          "metadata": {
            "tags": []
          },
          "execution_count": 33
        },
        {
          "output_type": "display_data",
          "data": {
            "image/png": "[encoded data removed]",
            "text/plain": [
              "<Figure size 432x288 with 1 Axes>"
            ]
          },
          "metadata": {
            "tags": [],
            "needs_background": "light"
          }
        }
      ]
    },
    {
      "cell_type": "markdown",
      "metadata": {
        "id": "LOjcyt2f4Uu9"
      },
      "source": [
        "In this plot we can observe that most of our values are 0 or close to 0. Therefore we can state that the Linear regression model works fine. \n",
        "\n",
        "But still lets fine tune our model by using Ridge and Lasso Regressor and apply Hyperparameter Tuning techniques on it :)"
      ]
    },
    {
      "cell_type": "markdown",
      "metadata": {
        "id": "oEDsemHT4Wtn"
      },
      "source": [
        "# Ridge Regressor"
      ]
    },
    {
      "cell_type": "code",
      "metadata": {
        "colab": {
          "base_uri": "https://localhost:8080/"
        },
        "id": "4bquBaT_39bw",
        "outputId": "d83d5df4-dc98-4438-c4c3-b3036fed9249"
      },
      "source": [
        "# Import necessary libraries\n",
        "from sklearn.linear_model import Ridge                  # Ridge Regressor - Regularization\n",
        "from sklearn.model_selection import RepeatedKFold       # RepeatedKFold - CrossValidation\n",
        "from sklearn.model_selection import RandomizedSearchCV  # RandomizedSearchCV - Hyperparameter Tuning\n",
        "\n",
        "# Instantiating/Defining model\n",
        "ridge = Ridge()\n",
        "\n",
        "# define evaluation\n",
        "cv = RepeatedKFold(n_splits=10, n_repeats=3, random_state=1)\n",
        "\n",
        "# define search space/parameters for Hyperparameter Tuning\n",
        "parameters = {'alpha':[1e-15, 1e-10, 1e-8, 1e-3, 1e-2, 1,5,10,20,30,35,40],\n",
        "              'normalize':[True,False]\n",
        "             }\n",
        "\n",
        "# define search (ridge_regressor)\n",
        "ridge_regressor = RandomizedSearchCV(ridge, parameters, scoring='r2', n_jobs=-1, cv=cv, random_state=1)\n",
        "\n",
        "# execute search (ridge_regressor) on Training data\n",
        "ridge_regressor.fit(X_train,y_train)\n",
        "\n",
        "# summarize result\n",
        "print('Best Score: %s' % ridge_regressor.best_score_)\n",
        "print('Best Hyperparameters: %s' % ridge_regressor.best_params_)\n",
        "print('Best Estimator: {}'.format(ridge_regressor.best_estimator_))"
      ],
      "execution_count": 34,
      "outputs": [
        {
          "output_type": "stream",
          "text": [
            "Best Score: 0.6651836377901927\n",
            "Best Hyperparameters: {'normalize': False, 'alpha': 5}\n",
            "Best Estimator: Ridge(alpha=5, copy_X=True, fit_intercept=True, max_iter=None, normalize=False,\n",
            "      random_state=None, solver='auto', tol=0.001)\n"
          ],
          "name": "stdout"
        }
      ]
    },
    {
      "cell_type": "code",
      "metadata": {
        "colab": {
          "base_uri": "https://localhost:8080/"
        },
        "id": "9GSgwvdu5_YM",
        "outputId": "d1f2f66d-0dd3-4501-a6b3-b69a2b347349"
      },
      "source": [
        "### --- Ridge Regression - Model Evaluation ---\n",
        "y_pred_ridge = ridge_regressor.predict(X_test)\n",
        "\n",
        "# calculate R2 score to measure the accuracy of our model\n",
        "print('R2 of Ridge Regressor model: ', r2_score(y_test,y_pred_ridge))"
      ],
      "execution_count": 35,
      "outputs": [
        {
          "output_type": "stream",
          "text": [
            "R2 of Ridge Regressor model:  0.6652894322759502\n"
          ],
          "name": "stdout"
        }
      ]
    },
    {
      "cell_type": "code",
      "metadata": {
        "colab": {
          "base_uri": "https://localhost:8080/"
        },
        "id": "6FyeEq1K5_b8",
        "outputId": "870e4bbc-35ba-41b1-efd8-cd166b11222c"
      },
      "source": [
        "# checking the test score of Ridge regression model\n",
        "test_score_ridge = ridge_regressor.score(X_test, y_test)\n",
        "test_score_ridge\n",
        "\n",
        "# adding the ridge_regressor score in models dict\n",
        "models[\"ridge\"] = test_score_ridge\n",
        "print(models)"
      ],
      "execution_count": 36,
      "outputs": [
        {
          "output_type": "stream",
          "text": [
            "{'linreg': 0.6652941707313291, 'ridge': 0.6652894322759502}\n"
          ],
          "name": "stdout"
        }
      ]
    },
    {
      "cell_type": "code",
      "metadata": {
        "colab": {
          "base_uri": "https://localhost:8080/"
        },
        "id": "8SJtVCzY5_ed",
        "outputId": "54ed91a1-43f6-4235-b820-700851fd6f4b"
      },
      "source": [
        "## Ridge Regression - Model Evaluation\n",
        "print(\"---- Ridge Regression - Model Evaluation ----\")\n",
        "\n",
        "print(\"Mean Absolute Error (MAE): {}\".format(mean_absolute_error(y_test, y_pred_ridge)))\n",
        "print(\"Mean Squared Error (MSE): {}\".format(mean_squared_error(y_test, y_pred_ridge)))\n",
        "print(\"Root Mean Absolute Error (MAE): {}\".format(np.sqrt(mean_squared_error(y_test, y_pred_ridge))))"
      ],
      "execution_count": 37,
      "outputs": [
        {
          "output_type": "stream",
          "text": [
            "---- Ridge Regression - Model Evaluation ----\n",
            "Mean Absolute Error (MAE): 12.853717025060403\n",
            "Mean Squared Error (MSE): 297.89887918911444\n",
            "Root Mean Absolute Error (MAE): 17.25974736747657\n"
          ],
          "name": "stdout"
        }
      ]
    },
    {
      "cell_type": "code",
      "metadata": {
        "colab": {
          "base_uri": "https://localhost:8080/",
          "height": 350
        },
        "id": "9Z7g0Gga9UW8",
        "outputId": "01b1d0d3-6c15-4c38-b6e8-1034a7e77db5"
      },
      "source": [
        "# checking the distribution of test and predicted values\n",
        "import seaborn as sns\n",
        "sns.distplot(y_test - y_pred_ridge, hist=True, color=\"r\",label='Ridge Regression')\n",
        "plt.legend()"
      ],
      "execution_count": 38,
      "outputs": [
        {
          "output_type": "stream",
          "text": [
            "/usr/local/lib/python3.7/dist-packages/seaborn/distributions.py:2557: FutureWarning: `distplot` is a deprecated function and will be removed in a future version. Please adapt your code to use either `displot` (a figure-level function with similar flexibility) or `histplot` (an axes-level function for histograms).\n",
            "  warnings.warn(msg, FutureWarning)\n"
          ],
          "name": "stderr"
        },
        {
          "output_type": "execute_result",
          "data": {
            "text/plain": [
              "<matplotlib.legend.Legend at 0x7f12360e8150>"
            ]
          },
          "metadata": {
            "tags": []
          },
          "execution_count": 38
        },
        {
          "output_type": "display_data",
          "data": {
            "image/png": "[encoded data removed]",
            "text/plain": [
              "<Figure size 432x288 with 1 Axes>"
            ]
          },
          "metadata": {
            "tags": [],
            "needs_background": "light"
          }
        }
      ]
    },
    {
      "cell_type": "markdown",
      "metadata": {
        "id": "QwBikKLi7jJd"
      },
      "source": [
        "After regularizing the model using Ridge Regression, there is no much difference in the model's performance and the Error Metrics. \n",
        "\n",
        "Lets check the model's metrics using Lasso Regression."
      ]
    },
    {
      "cell_type": "markdown",
      "metadata": {
        "id": "Slehlr1S73c1"
      },
      "source": [
        "# Lasso Regression"
      ]
    },
    {
      "cell_type": "code",
      "metadata": {
        "colab": {
          "base_uri": "https://localhost:8080/"
        },
        "id": "LUf5Sbbm5_ha",
        "outputId": "8f8bb591-2fe1-42a4-e8ea-d8c5cb194be5"
      },
      "source": [
        "# Lasso Regression\n",
        "from sklearn.linear_model import Lasso                  # Lasso Regressor - Regularization\n",
        "from sklearn.model_selection import RepeatedKFold       # RepeatedKFold - CrossValidation\n",
        "from sklearn.model_selection import RandomizedSearchCV  # RandomizedSearchCV - Hyperparameter Tuning\n",
        "\n",
        "# Instantiating/Defining model\n",
        "lasso = Lasso()\n",
        "\n",
        "# define evaluation\n",
        "cv = RepeatedKFold(n_splits=10, n_repeats=3, random_state=1)\n",
        "\n",
        "# define search space/parameters for Hyperparameter Tuning\n",
        "parameters = {'alpha':[1e-15, 1e-10, 1e-8, 1e-3, 1e-2, 1,5,10,20,30,35,40,50,55,60,65,70,80,90.,95,100],\n",
        "              'normalize':[True,False]\n",
        "             }\n",
        "\n",
        "# define search (lasso_regressor)\n",
        "lasso_regressor = RandomizedSearchCV(lasso, parameters, scoring='r2', n_jobs=-1, cv=cv, random_state=1)\n",
        "\n",
        "# execute search (lasso_regressor)\n",
        "lasso_regressor.fit(X_train,y_train)\n",
        "\n",
        "# summarize result\n",
        "print('Best Score: %s' % lasso_regressor.best_score_)\n",
        "print('Best Hyperparameters: {}'.format(lasso_regressor.best_params_))\n",
        "print('Best Estimator: {}'.format(lasso_regressor.best_estimator_))"
      ],
      "execution_count": 39,
      "outputs": [
        {
          "output_type": "stream",
          "text": [
            "Best Score: 0.665181385209721\n",
            "Best Hyperparameters: {'normalize': True, 'alpha': 1e-10}\n",
            "Best Estimator: Lasso(alpha=1e-10, copy_X=True, fit_intercept=True, max_iter=1000,\n",
            "      normalize=True, positive=False, precompute=False, random_state=None,\n",
            "      selection='cyclic', tol=0.0001, warm_start=False)\n"
          ],
          "name": "stdout"
        },
        {
          "output_type": "stream",
          "text": [
            "/usr/local/lib/python3.7/dist-packages/sklearn/linear_model/_coordinate_descent.py:476: ConvergenceWarning: Objective did not converge. You might want to increase the number of iterations. Duality gap: 211326.91996070556, tolerance: 2111.707835353408\n",
            "  positive)\n"
          ],
          "name": "stderr"
        }
      ]
    },
    {
      "cell_type": "code",
      "metadata": {
        "colab": {
          "base_uri": "https://localhost:8080/"
        },
        "id": "HlcwoT7k8u2D",
        "outputId": "16e9b1ad-1537-41cd-edbc-a80fdcb2aed4"
      },
      "source": [
        "### --- Lasso Regression - Model Evaluation ---\n",
        "y_pred_lasso = lasso_regressor.predict(X_test)\n",
        "\n",
        "# calculate R2 score to measure the accuracy of our model\n",
        "print('R2 of Ridge Regressor model: ', r2_score(y_test,y_pred_lasso))"
      ],
      "execution_count": 40,
      "outputs": [
        {
          "output_type": "stream",
          "text": [
            "R2 of Ridge Regressor model:  0.6652941708367742\n"
          ],
          "name": "stdout"
        }
      ]
    },
    {
      "cell_type": "code",
      "metadata": {
        "colab": {
          "base_uri": "https://localhost:8080/"
        },
        "id": "PZs8oQFR84kf",
        "outputId": "d7f6438f-b9b9-4d72-8de3-77cb3d4d6eda"
      },
      "source": [
        "# checking the test score/predictions on Ridge regression model\n",
        "test_score_lasso = lasso_regressor.score(X_test, y_test)\n",
        "test_score_lasso\n",
        "\n",
        "# adding the lasso_regressor score in models dict\n",
        "models[\"lasso\"] = test_score_lasso\n",
        "print(models)"
      ],
      "execution_count": 41,
      "outputs": [
        {
          "output_type": "stream",
          "text": [
            "{'linreg': 0.6652941707313291, 'ridge': 0.6652894322759502, 'lasso': 0.6652941708367742}\n"
          ],
          "name": "stdout"
        }
      ]
    },
    {
      "cell_type": "code",
      "metadata": {
        "colab": {
          "base_uri": "https://localhost:8080/"
        },
        "id": "IbcADjUX5_jr",
        "outputId": "08ee445a-9f20-47ab-e40e-1a0ba3e72039"
      },
      "source": [
        "## Ridge Regression - Model Evaluation\n",
        "print(\"---- Lasso Regression - Model Evaluation ----\")\n",
        "\n",
        "print(\"Mean Absolute Error (MAE): {}\".format(mean_absolute_error(y_test, y_pred_lasso)))\n",
        "print(\"Mean Squared Error (MSE): {}\".format(mean_squared_error(y_test, y_pred_lasso)))\n",
        "print(\"Root Mean Absolute Error (MAE): {}\".format(np.sqrt(mean_squared_error(y_test, y_pred_lasso))))"
      ],
      "execution_count": 42,
      "outputs": [
        {
          "output_type": "stream",
          "text": [
            "---- Lasso Regression - Model Evaluation ----\n",
            "Mean Absolute Error (MAE): 12.854475639623109\n",
            "Mean Squared Error (MSE): 297.8946617783286\n",
            "Root Mean Absolute Error (MAE): 17.259625192289914\n"
          ],
          "name": "stdout"
        }
      ]
    },
    {
      "cell_type": "code",
      "metadata": {
        "colab": {
          "base_uri": "https://localhost:8080/",
          "height": 350
        },
        "id": "GpcIWWJi5_l_",
        "outputId": "bbd76066-d383-4f61-9c34-010a7e838c0d"
      },
      "source": [
        "# checking the distribution of test and predicted values\n",
        "import seaborn as sns\n",
        "sns.distplot(y_test - y_pred_lasso, hist=True, color=\"g\",label='Lasso Regression')\n",
        "plt.legend()"
      ],
      "execution_count": 43,
      "outputs": [
        {
          "output_type": "stream",
          "text": [
            "/usr/local/lib/python3.7/dist-packages/seaborn/distributions.py:2557: FutureWarning: `distplot` is a deprecated function and will be removed in a future version. Please adapt your code to use either `displot` (a figure-level function with similar flexibility) or `histplot` (an axes-level function for histograms).\n",
            "  warnings.warn(msg, FutureWarning)\n"
          ],
          "name": "stderr"
        },
        {
          "output_type": "execute_result",
          "data": {
            "text/plain": [
              "<matplotlib.legend.Legend at 0x7f1235292f90>"
            ]
          },
          "metadata": {
            "tags": []
          },
          "execution_count": 43
        },
        {
          "output_type": "display_data",
          "data": {
            "image/png": "[encoded data removed]",
            "text/plain": [
              "<Figure size 432x288 with 1 Axes>"
            ]
          },
          "metadata": {
            "tags": [],
            "needs_background": "light"
          }
        }
      ]
    },
    {
      "cell_type": "markdown",
      "metadata": {
        "id": "RNmrYIQG9oCi"
      },
      "source": [
        "After regularizing the model using Lasso Regression, there is no difference in the model's performance and the Error Metrics compared to LinearRegression and Ridge Regression.\n",
        "\n",
        "Lets plot the distribution of data for models (Linear, Ridge and Lasso Regression)."
      ]
    },
    {
      "cell_type": "code",
      "metadata": {
        "colab": {
          "base_uri": "https://localhost:8080/",
          "height": 452
        },
        "id": "J36UdlZ7EVzQ",
        "outputId": "a9f63482-65f9-4bec-ee95-f89cf03c87cb"
      },
      "source": [
        "# Plotting the distribution of Linear and Ridge Regression\n",
        "import seaborn as sns\n",
        "fig, ax = plt.subplots()\n",
        "sns.distplot(y_test-y_pred, hist=False, rug=True, color='b', ax=ax, label='Linear Regression')\n",
        "sns.distplot(y_test-y_pred_ridge, hist=False, rug=True, color='r', ax=ax, label='Ridge Regression')\n",
        "lines, labels = ax.get_legend_handles_labels()\n",
        "ax.legend(lines, labels, loc='best')"
      ],
      "execution_count": 44,
      "outputs": [
        {
          "output_type": "stream",
          "text": [
            "/usr/local/lib/python3.7/dist-packages/seaborn/distributions.py:2557: FutureWarning: `distplot` is a deprecated function and will be removed in a future version. Please adapt your code to use either `displot` (a figure-level function with similar flexibility) or `kdeplot` (an axes-level function for kernel density plots).\n",
            "  warnings.warn(msg, FutureWarning)\n",
            "/usr/local/lib/python3.7/dist-packages/seaborn/distributions.py:2056: FutureWarning: The `axis` variable is no longer used and will be removed. Instead, assign variables directly to `x` or `y`.\n",
            "  warnings.warn(msg, FutureWarning)\n",
            "/usr/local/lib/python3.7/dist-packages/seaborn/distributions.py:2557: FutureWarning: `distplot` is a deprecated function and will be removed in a future version. Please adapt your code to use either `displot` (a figure-level function with similar flexibility) or `kdeplot` (an axes-level function for kernel density plots).\n",
            "  warnings.warn(msg, FutureWarning)\n",
            "/usr/local/lib/python3.7/dist-packages/seaborn/distributions.py:2056: FutureWarning: The `axis` variable is no longer used and will be removed. Instead, assign variables directly to `x` or `y`.\n",
            "  warnings.warn(msg, FutureWarning)\n"
          ],
          "name": "stderr"
        },
        {
          "output_type": "execute_result",
          "data": {
            "text/plain": [
              "<matplotlib.legend.Legend at 0x7f1234993550>"
            ]
          },
          "metadata": {
            "tags": []
          },
          "execution_count": 44
        },
        {
          "output_type": "display_data",
          "data": {
            "image/png": "[encoded data removed]",
            "text/plain": [
              "<Figure size 432x288 with 1 Axes>"
            ]
          },
          "metadata": {
            "tags": [],
            "needs_background": "light"
          }
        }
      ]
    },
    {
      "cell_type": "code",
      "metadata": {
        "colab": {
          "base_uri": "https://localhost:8080/",
          "height": 452
        },
        "id": "9Na1S7ViEljp",
        "outputId": "a668688a-8920-4ef1-a2d9-387583053f9d"
      },
      "source": [
        "# Plotting the distribution of Linear and Lasso Regression\n",
        "import seaborn as sns\n",
        "fig, ax = plt.subplots()\n",
        "sns.distplot(y_test-y_pred, hist=False, rug=True, color='b', ax=ax, label='Linear Regression')\n",
        "sns.distplot(y_test-y_pred_lasso, hist=False, rug=True, color='r', ax=ax, label='Lasso Regression')\n",
        "lines, labels = ax.get_legend_handles_labels()\n",
        "ax.legend(lines, labels, loc='best')"
      ],
      "execution_count": 45,
      "outputs": [
        {
          "output_type": "stream",
          "text": [
            "/usr/local/lib/python3.7/dist-packages/seaborn/distributions.py:2557: FutureWarning: `distplot` is a deprecated function and will be removed in a future version. Please adapt your code to use either `displot` (a figure-level function with similar flexibility) or `kdeplot` (an axes-level function for kernel density plots).\n",
            "  warnings.warn(msg, FutureWarning)\n",
            "/usr/local/lib/python3.7/dist-packages/seaborn/distributions.py:2056: FutureWarning: The `axis` variable is no longer used and will be removed. Instead, assign variables directly to `x` or `y`.\n",
            "  warnings.warn(msg, FutureWarning)\n",
            "/usr/local/lib/python3.7/dist-packages/seaborn/distributions.py:2557: FutureWarning: `distplot` is a deprecated function and will be removed in a future version. Please adapt your code to use either `displot` (a figure-level function with similar flexibility) or `kdeplot` (an axes-level function for kernel density plots).\n",
            "  warnings.warn(msg, FutureWarning)\n",
            "/usr/local/lib/python3.7/dist-packages/seaborn/distributions.py:2056: FutureWarning: The `axis` variable is no longer used and will be removed. Instead, assign variables directly to `x` or `y`.\n",
            "  warnings.warn(msg, FutureWarning)\n"
          ],
          "name": "stderr"
        },
        {
          "output_type": "execute_result",
          "data": {
            "text/plain": [
              "<matplotlib.legend.Legend at 0x7f1233f73ad0>"
            ]
          },
          "metadata": {
            "tags": []
          },
          "execution_count": 45
        },
        {
          "output_type": "display_data",
          "data": {
            "image/png": "[encoded data removed]",
            "text/plain": [
              "<Figure size 432x288 with 1 Axes>"
            ]
          },
          "metadata": {
            "tags": [],
            "needs_background": "light"
          }
        }
      ]
    },
    {
      "cell_type": "code",
      "metadata": {
        "colab": {
          "base_uri": "https://localhost:8080/",
          "height": 452
        },
        "id": "F3yEwG8BEpQL",
        "outputId": "6cb53deb-9c74-4eb6-9422-41dadc3b3541"
      },
      "source": [
        "# Plotting the distribution of Ridge and Lasso Regression\n",
        "import seaborn as sns\n",
        "fig, ax = plt.subplots()\n",
        "sns.distplot(y_test-y_pred_ridge, hist=False, rug=True, color='b', ax=ax, label='Ridge Regression')\n",
        "sns.distplot(y_test-y_pred_lasso, hist=False, rug=True, color='r', ax=ax, label='Lasso Regression')\n",
        "lines, labels = ax.get_legend_handles_labels()\n",
        "ax.legend(lines, labels, loc='best')"
      ],
      "execution_count": 46,
      "outputs": [
        {
          "output_type": "stream",
          "text": [
            "/usr/local/lib/python3.7/dist-packages/seaborn/distributions.py:2557: FutureWarning: `distplot` is a deprecated function and will be removed in a future version. Please adapt your code to use either `displot` (a figure-level function with similar flexibility) or `kdeplot` (an axes-level function for kernel density plots).\n",
            "  warnings.warn(msg, FutureWarning)\n",
            "/usr/local/lib/python3.7/dist-packages/seaborn/distributions.py:2056: FutureWarning: The `axis` variable is no longer used and will be removed. Instead, assign variables directly to `x` or `y`.\n",
            "  warnings.warn(msg, FutureWarning)\n",
            "/usr/local/lib/python3.7/dist-packages/seaborn/distributions.py:2557: FutureWarning: `distplot` is a deprecated function and will be removed in a future version. Please adapt your code to use either `displot` (a figure-level function with similar flexibility) or `kdeplot` (an axes-level function for kernel density plots).\n",
            "  warnings.warn(msg, FutureWarning)\n",
            "/usr/local/lib/python3.7/dist-packages/seaborn/distributions.py:2056: FutureWarning: The `axis` variable is no longer used and will be removed. Instead, assign variables directly to `x` or `y`.\n",
            "  warnings.warn(msg, FutureWarning)\n"
          ],
          "name": "stderr"
        },
        {
          "output_type": "execute_result",
          "data": {
            "text/plain": [
              "<matplotlib.legend.Legend at 0x7f1233c63110>"
            ]
          },
          "metadata": {
            "tags": []
          },
          "execution_count": 46
        },
        {
          "output_type": "display_data",
          "data": {
            "image/png": "[encoded data removed]",
            "text/plain": [
              "<Figure size 432x288 with 1 Axes>"
            ]
          },
          "metadata": {
            "tags": [],
            "needs_background": "light"
          }
        }
      ]
    },
    {
      "cell_type": "code",
      "metadata": {
        "colab": {
          "base_uri": "https://localhost:8080/",
          "height": 452
        },
        "id": "I_xmiWO3Eunw",
        "outputId": "642d4071-91e2-4e5c-823a-e31cf19e2092"
      },
      "source": [
        "# Plotting the distribution of Lasso and Ridge Regression\n",
        "import seaborn as sns\n",
        "fig, ax = plt.subplots()\n",
        "sns.distplot(y_test-y_pred_lasso, hist=False, rug=True, color='r', ax=ax, label='Lasso Regression')\n",
        "sns.distplot(y_test-y_pred_ridge, hist=False, rug=True, color='b', ax=ax, label='Ridge Regression')\n",
        "lines, labels = ax.get_legend_handles_labels()\n",
        "ax.legend(lines, labels, loc='best')"
      ],
      "execution_count": 47,
      "outputs": [
        {
          "output_type": "stream",
          "text": [
            "/usr/local/lib/python3.7/dist-packages/seaborn/distributions.py:2557: FutureWarning: `distplot` is a deprecated function and will be removed in a future version. Please adapt your code to use either `displot` (a figure-level function with similar flexibility) or `kdeplot` (an axes-level function for kernel density plots).\n",
            "  warnings.warn(msg, FutureWarning)\n",
            "/usr/local/lib/python3.7/dist-packages/seaborn/distributions.py:2056: FutureWarning: The `axis` variable is no longer used and will be removed. Instead, assign variables directly to `x` or `y`.\n",
            "  warnings.warn(msg, FutureWarning)\n",
            "/usr/local/lib/python3.7/dist-packages/seaborn/distributions.py:2557: FutureWarning: `distplot` is a deprecated function and will be removed in a future version. Please adapt your code to use either `displot` (a figure-level function with similar flexibility) or `kdeplot` (an axes-level function for kernel density plots).\n",
            "  warnings.warn(msg, FutureWarning)\n",
            "/usr/local/lib/python3.7/dist-packages/seaborn/distributions.py:2056: FutureWarning: The `axis` variable is no longer used and will be removed. Instead, assign variables directly to `x` or `y`.\n",
            "  warnings.warn(msg, FutureWarning)\n"
          ],
          "name": "stderr"
        },
        {
          "output_type": "execute_result",
          "data": {
            "text/plain": [
              "<matplotlib.legend.Legend at 0x7f12335e2f90>"
            ]
          },
          "metadata": {
            "tags": []
          },
          "execution_count": 47
        },
        {
          "output_type": "display_data",
          "data": {
            "image/png": "[encoded data removed]",
            "text/plain": [
              "<Figure size 432x288 with 1 Axes>"
            ]
          },
          "metadata": {
            "tags": [],
            "needs_background": "light"
          }
        }
      ]
    },
    {
      "cell_type": "code",
      "metadata": {
        "colab": {
          "base_uri": "https://localhost:8080/",
          "height": 629
        },
        "id": "PiXwGhDj_N4a",
        "outputId": "e5c98fc1-3568-4fec-b221-4f288ff741d5"
      },
      "source": [
        "# Plotting the distribution of Linear, Ridge and Lasso Regression\n",
        "import seaborn as sns\n",
        "fig, ax = plt.subplots(figsize=(12,6))\n",
        "sns.distplot(y_test-y_pred_ridge, hist=False, rug=True, color='r', ax=ax, label='Ridge Regression')\n",
        "sns.distplot(y_test-y_pred_lasso, hist=False, rug=True, color='g', ax=ax, label='Lasso Regression')\n",
        "sns.distplot(y_test-y_pred, hist=False, rug=True, color='b', ax=ax, label='Linear Regression')\n",
        "lines, labels = ax.get_legend_handles_labels()\n",
        "ax.legend(lines, labels, loc='best')"
      ],
      "execution_count": 48,
      "outputs": [
        {
          "output_type": "stream",
          "text": [
            "/usr/local/lib/python3.7/dist-packages/seaborn/distributions.py:2557: FutureWarning: `distplot` is a deprecated function and will be removed in a future version. Please adapt your code to use either `displot` (a figure-level function with similar flexibility) or `kdeplot` (an axes-level function for kernel density plots).\n",
            "  warnings.warn(msg, FutureWarning)\n",
            "/usr/local/lib/python3.7/dist-packages/seaborn/distributions.py:2056: FutureWarning: The `axis` variable is no longer used and will be removed. Instead, assign variables directly to `x` or `y`.\n",
            "  warnings.warn(msg, FutureWarning)\n",
            "/usr/local/lib/python3.7/dist-packages/seaborn/distributions.py:2557: FutureWarning: `distplot` is a deprecated function and will be removed in a future version. Please adapt your code to use either `displot` (a figure-level function with similar flexibility) or `kdeplot` (an axes-level function for kernel density plots).\n",
            "  warnings.warn(msg, FutureWarning)\n",
            "/usr/local/lib/python3.7/dist-packages/seaborn/distributions.py:2056: FutureWarning: The `axis` variable is no longer used and will be removed. Instead, assign variables directly to `x` or `y`.\n",
            "  warnings.warn(msg, FutureWarning)\n",
            "/usr/local/lib/python3.7/dist-packages/seaborn/distributions.py:2557: FutureWarning: `distplot` is a deprecated function and will be removed in a future version. Please adapt your code to use either `displot` (a figure-level function with similar flexibility) or `kdeplot` (an axes-level function for kernel density plots).\n",
            "  warnings.warn(msg, FutureWarning)\n",
            "/usr/local/lib/python3.7/dist-packages/seaborn/distributions.py:2056: FutureWarning: The `axis` variable is no longer used and will be removed. Instead, assign variables directly to `x` or `y`.\n",
            "  warnings.warn(msg, FutureWarning)\n"
          ],
          "name": "stderr"
        },
        {
          "output_type": "execute_result",
          "data": {
            "text/plain": [
              "<matplotlib.legend.Legend at 0x7f1232c1f510>"
            ]
          },
          "metadata": {
            "tags": []
          },
          "execution_count": 48
        },
        {
          "output_type": "display_data",
          "data": {
            "image/png": "[encoded data removed]",
            "text/plain": [
              "<Figure size 864x432 with 1 Axes>"
            ]
          },
          "metadata": {
            "tags": [],
            "needs_background": "light"
          }
        }
      ]
    },
    {
      "cell_type": "markdown",
      "metadata": {
        "id": "dnbLwazT_Ald"
      },
      "source": [
        "- From the above plot, it is evident that in LinearRegression most of our values are 0 or close to 0, compared to Ridge and Lasso. \n",
        "- Therefore we can state that the Linear regression model works fine."
      ]
    },
    {
      "cell_type": "markdown",
      "metadata": {
        "id": "MLmbwZnCmBJG"
      },
      "source": [
        "# DecisionTree Regressor"
      ]
    },
    {
      "cell_type": "code",
      "metadata": {
        "id": "NyJ4buvcmAYL"
      },
      "source": [
        "# Importing DecisionTreeRegressor\n",
        "from sklearn.tree import DecisionTreeRegressor\n",
        "\n",
        "# Instantiating the DecisionTreeRegressor Model\n",
        "dt_reg = DecisionTreeRegressor()\n",
        "\n",
        "# Fitting the DecisionTreeRegressor object on training data\n",
        "dt_reg.fit(X_train,y_train)\n",
        "\n",
        "# Predicting the data\n",
        "y_pred_dt = dt_reg.predict(X_test)"
      ],
      "execution_count": 49,
      "outputs": []
    },
    {
      "cell_type": "code",
      "metadata": {
        "id": "lhWNpS42mYG2",
        "colab": {
          "base_uri": "https://localhost:8080/"
        },
        "outputId": "a1ff8044-0ba0-4c28-a1cc-00f0c9012a2f"
      },
      "source": [
        "### --- DecisionTreeRegressor - Model Evaluation ---\n",
        "from sklearn.metrics import r2_score, mean_absolute_error, mean_squared_error\n",
        "\n",
        "# calculate R2 score to measure the accuracy of our model\n",
        "print('R2 of DecisionTreeRegressor model: ', r2_score(y_test,y_pred_dt))"
      ],
      "execution_count": 50,
      "outputs": [
        {
          "output_type": "stream",
          "text": [
            "R2 of DecisionTreeRegressor model:  0.8997922143985336\n"
          ],
          "name": "stdout"
        }
      ]
    },
    {
      "cell_type": "code",
      "metadata": {
        "id": "Icr_oeyjme0d",
        "colab": {
          "base_uri": "https://localhost:8080/"
        },
        "outputId": "46ed6819-c677-46f2-a6cb-abbeaeb46f34"
      },
      "source": [
        "# checking the test score/predictions on DecisionTreeRegressor model\n",
        "test_score_dt = dt_reg.score(X_test, y_test)\n",
        "test_score_dt\n",
        "\n",
        "# adding the dt_reg score in models dict\n",
        "models[\"DT\"] = test_score_dt\n",
        "print(models)"
      ],
      "execution_count": 51,
      "outputs": [
        {
          "output_type": "stream",
          "text": [
            "{'linreg': 0.6652941707313291, 'ridge': 0.6652894322759502, 'lasso': 0.6652941708367742, 'DT': 0.8997922143985336}\n"
          ],
          "name": "stdout"
        }
      ]
    },
    {
      "cell_type": "code",
      "metadata": {
        "id": "B3tT-lsznFlp",
        "colab": {
          "base_uri": "https://localhost:8080/"
        },
        "outputId": "a7c32c89-3527-44bf-fe60-92abeeb85886"
      },
      "source": [
        "## DecisionTreeRegressor - Model Evaluation\n",
        "print(\"---- DecisionTreeRegressor - Model Evaluation ----\")\n",
        "\n",
        "print(\"Mean Absolute Error (MAE): {}\".format(mean_absolute_error(y_test, y_pred_dt)))\n",
        "print(\"Mean Squared Error (MSE): {}\".format(mean_squared_error(y_test, y_pred_dt)))\n",
        "print(\"Root Mean Absolute Error (MAE): {}\".format(np.sqrt(mean_squared_error(y_test, y_pred_dt))))"
      ],
      "execution_count": 52,
      "outputs": [
        {
          "output_type": "stream",
          "text": [
            "---- DecisionTreeRegressor - Model Evaluation ----\n",
            "Mean Absolute Error (MAE): 2.596586035340539\n",
            "Mean Squared Error (MSE): 89.18686738720191\n",
            "Root Mean Absolute Error (MAE): 9.443879890553559\n"
          ],
          "name": "stdout"
        }
      ]
    },
    {
      "cell_type": "markdown",
      "metadata": {
        "id": "netANLCU_vEb"
      },
      "source": [
        "# RandomForestRegressor"
      ]
    },
    {
      "cell_type": "code",
      "metadata": {
        "id": "wMM6XMoF_xPd"
      },
      "source": [
        "# Importing RandomForestRegressor\n",
        "from sklearn.ensemble import RandomForestRegressor\n",
        "\n",
        "# Instantiating the RandomForestRegressor Model\n",
        "rf_reg = RandomForestRegressor()\n",
        "\n",
        "# Fitting the RandomForestRegressor object on training data\n",
        "rf_reg.fit(X_train,y_train)\n",
        "\n",
        "# Predicting the data\n",
        "y_pred_rf = rf_reg.predict(X_test)"
      ],
      "execution_count": 53,
      "outputs": []
    },
    {
      "cell_type": "code",
      "metadata": {
        "colab": {
          "base_uri": "https://localhost:8080/"
        },
        "id": "s4WGrYyKAgAy",
        "outputId": "1e361b55-a30b-4c40-e7fc-6d94cdb765bf"
      },
      "source": [
        "### --- RandomForestRegressor - Model Evaluation ---\n",
        "from sklearn.metrics import r2_score, mean_absolute_error, mean_squared_error\n",
        "\n",
        "# calculate R2 score to measure the accuracy of our model\n",
        "print('R2 of RandomForestRegressor model: ', r2_score(y_test,y_pred_rf))"
      ],
      "execution_count": 54,
      "outputs": [
        {
          "output_type": "stream",
          "text": [
            "R2 of RandomForestRegressor model:  0.9575453152661199\n"
          ],
          "name": "stdout"
        }
      ]
    },
    {
      "cell_type": "markdown",
      "metadata": {
        "id": "GVr2gCpKAxH0"
      },
      "source": [
        "- RandomForestRegressor model turns out to be high performing model out of Linear, Ridge and Lasso Regressors. \n",
        "- One can fine tune the parameters and improve the models performance."
      ]
    },
    {
      "cell_type": "code",
      "metadata": {
        "id": "uKDPI7YCkrMz",
        "colab": {
          "base_uri": "https://localhost:8080/"
        },
        "outputId": "1fff3bb0-62d8-46e9-e375-9bd3cde2b525"
      },
      "source": [
        "# checking the test score/predictions on RandomForestRegressor model\n",
        "test_score_rf = rf_reg.score(X_test, y_test)\n",
        "test_score_rf\n",
        "\n",
        "# adding the rf_reg score in models dict\n",
        "models[\"rf\"] = test_score_rf\n",
        "print(models)"
      ],
      "execution_count": 55,
      "outputs": [
        {
          "output_type": "stream",
          "text": [
            "{'linreg': 0.6652941707313291, 'ridge': 0.6652894322759502, 'lasso': 0.6652941708367742, 'DT': 0.8997922143985336, 'rf': 0.9575453152661199}\n"
          ],
          "name": "stdout"
        }
      ]
    },
    {
      "cell_type": "code",
      "metadata": {
        "colab": {
          "base_uri": "https://localhost:8080/"
        },
        "id": "hoFPrxeTAvrn",
        "outputId": "620e7b5b-0ed3-424d-cc58-96d9ebeed6e4"
      },
      "source": [
        "## RandomForestRegressor - Model Evaluation\n",
        "print(\"---- RandomForestRegression - Model Evaluation ----\")\n",
        "\n",
        "print(\"Mean Absolute Error (MAE): {}\".format(mean_absolute_error(y_test, y_pred_rf)))\n",
        "print(\"Mean Squared Error (MSE): {}\".format(mean_squared_error(y_test, y_pred_rf)))\n",
        "print(\"Root Mean Absolute Error (MAE): {}\".format(np.sqrt(mean_squared_error(y_test, y_pred_rf))))"
      ],
      "execution_count": 56,
      "outputs": [
        {
          "output_type": "stream",
          "text": [
            "---- RandomForestRegression - Model Evaluation ----\n",
            "Mean Absolute Error (MAE): 3.1848296162863843\n",
            "Mean Squared Error (MSE): 37.78549056442405\n",
            "Root Mean Absolute Error (MAE): 6.146990366384516\n"
          ],
          "name": "stdout"
        }
      ]
    },
    {
      "cell_type": "markdown",
      "metadata": {
        "id": "X0kAZQUCBcV1"
      },
      "source": [
        "- We could see that, the error has been reduced in RandomForestRegressor compared to other models.\n",
        "- One can fine tune the model by selecting right parameters i.e. by doing Hyperparameter tuning."
      ]
    },
    {
      "cell_type": "code",
      "metadata": {
        "colab": {
          "base_uri": "https://localhost:8080/",
          "height": 350
        },
        "id": "aLUmGF4pBOkQ",
        "outputId": "33a85c79-882e-4977-9918-ca15ff0c945d"
      },
      "source": [
        "# checking the distribution of test and predicted values\n",
        "import seaborn as sns\n",
        "sns.distplot(y_test - y_pred_rf, hist=True, color=\"b\",label='RandomForestRegressor')\n",
        "plt.legend()"
      ],
      "execution_count": 57,
      "outputs": [
        {
          "output_type": "stream",
          "text": [
            "/usr/local/lib/python3.7/dist-packages/seaborn/distributions.py:2557: FutureWarning: `distplot` is a deprecated function and will be removed in a future version. Please adapt your code to use either `displot` (a figure-level function with similar flexibility) or `histplot` (an axes-level function for histograms).\n",
            "  warnings.warn(msg, FutureWarning)\n"
          ],
          "name": "stderr"
        },
        {
          "output_type": "execute_result",
          "data": {
            "text/plain": [
              "<matplotlib.legend.Legend at 0x7f1230971890>"
            ]
          },
          "metadata": {
            "tags": []
          },
          "execution_count": 57
        },
        {
          "output_type": "display_data",
          "data": {
            "image/png": "[encoded data removed]",
            "text/plain": [
              "<Figure size 432x288 with 1 Axes>"
            ]
          },
          "metadata": {
            "tags": [],
            "needs_background": "light"
          }
        }
      ]
    },
    {
      "cell_type": "markdown",
      "metadata": {
        "id": "53pl5yQcG6GH"
      },
      "source": [
        "### Hyperparameter Tuning in RandomForestRegressor\n",
        "\n",
        "The main parameters used by a Random Forest Classifier are:\n",
        "\n",
        "- criterion = the function used to evaluate the quality of a split.\n",
        "- max_depth = maximum number of levels allowed in each tree.\n",
        "- max_features = maximum number of features considered when splitting a node.\n",
        "- min_samples_leaf = minimum number of samples which can be stored in a tree leaf.\n",
        "- min_samples_split = minimum number of samples necessary in a node to cause node splitting.\n",
        "- n_estimators = number of trees in the ensemble."
      ]
    },
    {
      "cell_type": "markdown",
      "metadata": {
        "id": "MGfwfNd9HENx"
      },
      "source": [
        "## Please note, as my machine configuration is not that great, I have not done the Parameter Tuning, one can run the below cell quotes and select/find best parameters. "
      ]
    },
    {
      "cell_type": "markdown",
      "metadata": {
        "id": "82Q4SxlvHU8P"
      },
      "source": [
        "#### RandomizedSearchCV"
      ]
    },
    {
      "cell_type": "code",
      "metadata": {
        "id": "UUbisPL1HDaw"
      },
      "source": [
        "# Randomized SearchCV\n",
        "import numpy as np\n",
        "from sklearn.model_selection import RandomizedSearchCV\n",
        "\n",
        "# Maximum no of levels in a tree \n",
        "max_depth = [int(x) for x in np.linspace(start=10, stop=1000, num=10)]\n",
        "\n",
        "# Maximum no of features to be considered while splitting a node\n",
        "max_features=['sqrt','auto','log2']\n",
        "\n",
        "# Minimum no of samples required at each leaf node\n",
        "min_samples_leaf = [1,2,4,6,7,8,10]\n",
        "\n",
        "# Minimum no of samples to be considered at split a node\n",
        "min_samples_split = [2,5,10,14,16]\n",
        "\n",
        "# No of trees in RandomForest\n",
        "n_estimators = [int(x) for x in np.linspace(start=200, stop=2000, num=10)]\n",
        "\n",
        "# Creating a random grid\n",
        "random_grid = {\n",
        "                'max_depth':max_depth,\n",
        "                'max_features':max_features,\n",
        "                'min_samples_leaf':min_samples_leaf,\n",
        "                'min_samples_split':min_samples_split,\n",
        "                'n_estimators':n_estimators,\n",
        "                'criterion':['mse']\n",
        "    \n",
        "              }\n",
        "print(random_grid)              "
      ],
      "execution_count": null,
      "outputs": []
    },
    {
      "cell_type": "code",
      "metadata": {
        "id": "F-e2rAGGCNTi"
      },
      "source": [
        "# Instantiating the RandomForestRegressor\n",
        "rf = RandomForestRegressor()\n",
        "\n",
        "# Applying the search/parameters to the RandomizedSearchCV\n",
        "rf_randomCV = RandomizedSearchCV(estimator=rf, param_distributions=random_grid, \n",
        "                                 n_iter=20, cv=3, n_jobs=-1, verbose=2, random_state=100)\n",
        "#fit the randomized model\n",
        "rf_randomCV.fit(X_train, y_train)\n",
        "\n",
        "# selecting best parameters\n",
        "print('Best parameters for RandomForestRegressor using RandomizedSearchCV :{}'.format(rf_randomCV.best_params_))\n",
        "\n",
        "# selecting best score\n",
        "print('Best score for RandomForestRegressor using RandomizedSearchCV :{}'.format(rf_randomCV.best_score_))\n",
        "\n",
        "# selecting best estimator\n",
        "print('Best estimator for RandomForestRegressor using RandomizedSearchCV :{}'.format(rf_randomCV.best_estimator_))"
      ],
      "execution_count": null,
      "outputs": []
    },
    {
      "cell_type": "code",
      "metadata": {
        "colab": {
          "background_save": true
        },
        "id": "ojG00yz9IeIN"
      },
      "source": [
        "# storing the best estimator results in variable 'best_random_grid'\n",
        "best_random_grid = rf_randomCV.best_estimator_"
      ],
      "execution_count": null,
      "outputs": []
    },
    {
      "cell_type": "code",
      "metadata": {
        "colab": {
          "background_save": true
        },
        "id": "AzqT7RxyIf1W"
      },
      "source": [
        "# predicting the results on test dataset\n",
        "prediction = best_random_grid.predict(X_test)"
      ],
      "execution_count": null,
      "outputs": []
    },
    {
      "cell_type": "code",
      "metadata": {
        "colab": {
          "background_save": true
        },
        "id": "W0qbWuD6Ijcj",
        "outputId": "5fcbcf62-2830-4582-ff60-65e9e9fdaac3"
      },
      "source": [
        "## RandomForestRegressor - Model Evaluation\n",
        "from sklearn.metrics import mean_absolute_error, mean_squared_error, r2_score\n",
        "print(\"---- RandomForestRegression - Model Evaluation ----\")\n",
        "\n",
        "print(\"Mean Absolute Error (MAE): {}\".format(mean_absolute_error(y_test, prediction)))\n",
        "print(\"Mean Squared Error (MSE): {}\".format(mean_squared_error(y_test, prediction)))\n",
        "print(\"Root Mean Absolute Error (MAE): {}\".format(np.sqrt(mean_squared_error(y_test, prediction))))"
      ],
      "execution_count": null,
      "outputs": [
        {
          "output_type": "stream",
          "text": [
            "---- RandomForestRegression - Model Evaluation ----\n",
            "Mean Absolute Error (MAE): 4.339192533540251\n",
            "Mean Squared Error (MSE): 53.49484803073689\n",
            "Root Mean Absolute Error (MAE): 7.3140172293163825\n"
          ],
          "name": "stdout"
        }
      ]
    },
    {
      "cell_type": "code",
      "metadata": {
        "colab": {
          "background_save": true
        },
        "id": "4S0l1uYJInG6"
      },
      "source": [
        "# calculate R2 score to measure the accuracy of our model\n",
        "print('R2 of our model: ', r2_score(y_test,prediction))"
      ],
      "execution_count": null,
      "outputs": []
    },
    {
      "cell_type": "markdown",
      "metadata": {
        "id": "fIMNcUOcjLZB"
      },
      "source": [
        "# Support Vector Machine"
      ]
    },
    {
      "cell_type": "code",
      "metadata": {
        "id": "6NdqgYgsIski"
      },
      "source": [
        "# Importing SupportVectorRegressor module from svm library\n",
        "from sklearn.svm import SVR\n",
        "\n",
        "# Instantiating SVR\n",
        "svm = SVR()\n",
        "\n",
        "# Training Model\n",
        "svm.fit(X_train, y_train)\n",
        "\n",
        "# Predicting the o/p on Test data\n",
        "y_pred_svm = svm.predict(X_test)"
      ],
      "execution_count": 58,
      "outputs": []
    },
    {
      "cell_type": "code",
      "metadata": {
        "id": "s2UmV1A1kGk0",
        "colab": {
          "base_uri": "https://localhost:8080/"
        },
        "outputId": "ec2cf24d-bca1-4b3d-add4-0ec2dfe16595"
      },
      "source": [
        "### --- SupportVectorRegressor - Model Evaluation ---\n",
        "from sklearn.metrics import r2_score, mean_absolute_error, mean_squared_error\n",
        "\n",
        "# calculate R2 score to measure the accuracy of our model\n",
        "print('R2 of SupportVectorRegressor model: ', r2_score(y_test,y_pred_svm))"
      ],
      "execution_count": 59,
      "outputs": [
        {
          "output_type": "stream",
          "text": [
            "R2 of SupportVectorRegressor model:  0.5398316515529451\n"
          ],
          "name": "stdout"
        }
      ]
    },
    {
      "cell_type": "code",
      "metadata": {
        "id": "U9w4AIsckfW5",
        "colab": {
          "base_uri": "https://localhost:8080/"
        },
        "outputId": "14d66033-d3c0-4fba-854b-d6b1f59bad7b"
      },
      "source": [
        "# checking the test score/predictions on SVM regression model\n",
        "test_score_svm = svm.score(X_test, y_test)\n",
        "test_score_svm\n",
        "\n",
        "# adding the linreg score in models dict\n",
        "models[\"svm\"] = test_score_svm\n",
        "print(models)"
      ],
      "execution_count": 60,
      "outputs": [
        {
          "output_type": "stream",
          "text": [
            "{'linreg': 0.6652941707313291, 'ridge': 0.6652894322759502, 'lasso': 0.6652941708367742, 'DT': 0.8997922143985336, 'rf': 0.9575453152661199, 'svm': 0.5398316515529451}\n"
          ],
          "name": "stdout"
        }
      ]
    },
    {
      "cell_type": "code",
      "metadata": {
        "id": "igDw23qDkQvw",
        "colab": {
          "base_uri": "https://localhost:8080/"
        },
        "outputId": "81c1e3fe-8db1-402c-b18b-36ecca8cdf58"
      },
      "source": [
        "## RandomForestRegressor - Model Evaluation\n",
        "print(\"---- RandomForestRegression - Model Evaluation ----\")\n",
        "\n",
        "print(\"Mean Absolute Error (MAE): {}\".format(mean_absolute_error(y_test, y_pred_rf)))\n",
        "print(\"Mean Squared Error (MSE): {}\".format(mean_squared_error(y_test, y_pred_rf)))\n",
        "print(\"Root Mean Absolute Error (MAE): {}\".format(np.sqrt(mean_squared_error(y_test, y_pred_rf))))"
      ],
      "execution_count": 61,
      "outputs": [
        {
          "output_type": "stream",
          "text": [
            "---- RandomForestRegression - Model Evaluation ----\n",
            "Mean Absolute Error (MAE): 3.1848296162863843\n",
            "Mean Squared Error (MSE): 37.78549056442405\n",
            "Root Mean Absolute Error (MAE): 6.146990366384516\n"
          ],
          "name": "stdout"
        }
      ]
    },
    {
      "cell_type": "markdown",
      "metadata": {
        "id": "4fXvQqMmk_Cw"
      },
      "source": [
        "## Best Model Selection"
      ]
    },
    {
      "cell_type": "code",
      "metadata": {
        "id": "qwPM0QTUkQyw",
        "colab": {
          "base_uri": "https://localhost:8080/",
          "height": 339
        },
        "outputId": "c260ce7d-d28e-4350-c73b-b99bfbf3c0ce"
      },
      "source": [
        "# Plotting barplot to find the best model\n",
        "import seaborn as sns\n",
        "model_names = list(models.keys())\n",
        "accuracy = list(map(float, models.values()))\n",
        "\n",
        "sns.barplot(model_names, accuracy)"
      ],
      "execution_count": 62,
      "outputs": [
        {
          "output_type": "stream",
          "text": [
            "/usr/local/lib/python3.7/dist-packages/seaborn/_decorators.py:43: FutureWarning: Pass the following variables as keyword args: x, y. From version 0.12, the only valid positional argument will be `data`, and passing other arguments without an explicit keyword will result in an error or misinterpretation.\n",
            "  FutureWarning\n"
          ],
          "name": "stderr"
        },
        {
          "output_type": "execute_result",
          "data": {
            "text/plain": [
              "<matplotlib.axes._subplots.AxesSubplot at 0x7f123083a810>"
            ]
          },
          "metadata": {
            "tags": []
          },
          "execution_count": 62
        },
        {
          "output_type": "display_data",
          "data": {
            "image/png": "[encoded data removed]",
            "text/plain": [
              "<Figure size 432x288 with 1 Axes>"
            ]
          },
          "metadata": {
            "tags": [],
            "needs_background": "light"
          }
        }
      ]
    },
    {
      "cell_type": "markdown",
      "metadata": {
        "id": "LZlfY9JBlXId"
      },
      "source": [
        "From above, we can see that **Random Forest** performed the best, closely followed by **Decision Tree** and **LinearRegression**. So we will be choosing Random Forest for the final model"
      ]
    },
    {
      "cell_type": "code",
      "metadata": {
        "colab": {
          "base_uri": "https://localhost:8080/",
          "height": 168
        },
        "id": "DOP4pU_RpJCE",
        "outputId": "61071f23-ff52-4ad2-fc8e-22895822fcf1"
      },
      "source": [
        "final_df.head(1)"
      ],
      "execution_count": 63,
      "outputs": [
        {
          "output_type": "execute_result",
          "data": {
            "text/html": [
              "<div>\n",
              "<style scoped>\n",
              "    .dataframe tbody tr th:only-of-type {\n",
              "        vertical-align: middle;\n",
              "    }\n",
              "\n",
              "    .dataframe tbody tr th {\n",
              "        vertical-align: top;\n",
              "    }\n",
              "\n",
              "    .dataframe thead th {\n",
              "        text-align: right;\n",
              "    }\n",
              "</style>\n",
              "<table border=\"1\" class=\"dataframe\">\n",
              "  <thead>\n",
              "    <tr style=\"text-align: right;\">\n",
              "      <th></th>\n",
              "      <th>bat_team_Chennai Super Kings</th>\n",
              "      <th>bat_team_Delhi Daredevils</th>\n",
              "      <th>bat_team_Kings XI Punjab</th>\n",
              "      <th>bat_team_Kolkata Knight Riders</th>\n",
              "      <th>bat_team_Mumbai Indians</th>\n",
              "      <th>bat_team_Rajasthan Royals</th>\n",
              "      <th>bat_team_Royal Challengers Bangalore</th>\n",
              "      <th>bat_team_Sunrisers Hyderabad</th>\n",
              "      <th>bowl_team_Chennai Super Kings</th>\n",
              "      <th>bowl_team_Delhi Daredevils</th>\n",
              "      <th>bowl_team_Kings XI Punjab</th>\n",
              "      <th>bowl_team_Kolkata Knight Riders</th>\n",
              "      <th>bowl_team_Mumbai Indians</th>\n",
              "      <th>bowl_team_Rajasthan Royals</th>\n",
              "      <th>bowl_team_Royal Challengers Bangalore</th>\n",
              "      <th>bowl_team_Sunrisers Hyderabad</th>\n",
              "      <th>venue_Dr DY Patil Sports Academy</th>\n",
              "      <th>venue_Eden Gardens</th>\n",
              "      <th>venue_Feroz Shah Kotla</th>\n",
              "      <th>venue_M Chinnaswamy Stadium</th>\n",
              "      <th>venue_MA Chidambaram Stadium, Chepauk</th>\n",
              "      <th>venue_Punjab Cricket Association Stadium, Mohali</th>\n",
              "      <th>venue_Rajiv Gandhi International Stadium, Uppal</th>\n",
              "      <th>venue_Sawai Mansingh Stadium</th>\n",
              "      <th>venue_Subrata Roy Sahara Stadium</th>\n",
              "      <th>venue_Wankhede Stadium</th>\n",
              "      <th>overs</th>\n",
              "      <th>runs</th>\n",
              "      <th>wickets</th>\n",
              "      <th>runs_last_5</th>\n",
              "      <th>wickets_last_5</th>\n",
              "      <th>total</th>\n",
              "    </tr>\n",
              "  </thead>\n",
              "  <tbody>\n",
              "    <tr>\n",
              "      <th>32</th>\n",
              "      <td>0</td>\n",
              "      <td>0</td>\n",
              "      <td>0</td>\n",
              "      <td>1</td>\n",
              "      <td>0</td>\n",
              "      <td>0</td>\n",
              "      <td>0</td>\n",
              "      <td>0</td>\n",
              "      <td>0</td>\n",
              "      <td>0</td>\n",
              "      <td>0</td>\n",
              "      <td>0</td>\n",
              "      <td>0</td>\n",
              "      <td>0</td>\n",
              "      <td>1</td>\n",
              "      <td>0</td>\n",
              "      <td>0</td>\n",
              "      <td>0</td>\n",
              "      <td>0</td>\n",
              "      <td>1</td>\n",
              "      <td>0</td>\n",
              "      <td>0</td>\n",
              "      <td>0</td>\n",
              "      <td>0</td>\n",
              "      <td>0</td>\n",
              "      <td>0</td>\n",
              "      <td>5.1</td>\n",
              "      <td>61</td>\n",
              "      <td>0</td>\n",
              "      <td>59</td>\n",
              "      <td>0</td>\n",
              "      <td>222</td>\n",
              "    </tr>\n",
              "  </tbody>\n",
              "</table>\n",
              "</div>"
            ],
            "text/plain": [
              "    bat_team_Chennai Super Kings  ...  total\n",
              "32                             0  ...    222\n",
              "\n",
              "[1 rows x 32 columns]"
            ]
          },
          "metadata": {
            "tags": []
          },
          "execution_count": 63
        }
      ]
    },
    {
      "cell_type": "code",
      "metadata": {
        "colab": {
          "base_uri": "https://localhost:8080/"
        },
        "id": "sipHsy3YtkXi",
        "outputId": "da0c5af2-a0d1-4f94-a97d-b5108f0acddd"
      },
      "source": [
        "final_df.columns"
      ],
      "execution_count": 64,
      "outputs": [
        {
          "output_type": "execute_result",
          "data": {
            "text/plain": [
              "Index(['bat_team_Chennai Super Kings', 'bat_team_Delhi Daredevils',\n",
              "       'bat_team_Kings XI Punjab', 'bat_team_Kolkata Knight Riders',\n",
              "       'bat_team_Mumbai Indians', 'bat_team_Rajasthan Royals',\n",
              "       'bat_team_Royal Challengers Bangalore', 'bat_team_Sunrisers Hyderabad',\n",
              "       'bowl_team_Chennai Super Kings', 'bowl_team_Delhi Daredevils',\n",
              "       'bowl_team_Kings XI Punjab', 'bowl_team_Kolkata Knight Riders',\n",
              "       'bowl_team_Mumbai Indians', 'bowl_team_Rajasthan Royals',\n",
              "       'bowl_team_Royal Challengers Bangalore',\n",
              "       'bowl_team_Sunrisers Hyderabad', 'venue_Dr DY Patil Sports Academy',\n",
              "       'venue_Eden Gardens', 'venue_Feroz Shah Kotla',\n",
              "       'venue_M Chinnaswamy Stadium', 'venue_MA Chidambaram Stadium, Chepauk',\n",
              "       'venue_Punjab Cricket Association Stadium, Mohali',\n",
              "       'venue_Rajiv Gandhi International Stadium, Uppal',\n",
              "       'venue_Sawai Mansingh Stadium', 'venue_Subrata Roy Sahara Stadium',\n",
              "       'venue_Wankhede Stadium', 'overs', 'runs', 'wickets', 'runs_last_5',\n",
              "       'wickets_last_5', 'total'],\n",
              "      dtype='object')"
            ]
          },
          "metadata": {
            "tags": []
          },
          "execution_count": 64
        }
      ]
    },
    {
      "cell_type": "markdown",
      "metadata": {
        "id": "BLt2F3jTpBGr"
      },
      "source": [
        "# Predictions"
      ]
    },
    {
      "cell_type": "code",
      "metadata": {
        "id": "qOd01SVZpUY-"
      },
      "source": [
        "# Defining a method to predict the score\n",
        "\n",
        "def predict_score(batting_team, bowling_team, venue, overs, runs, wickets, runs_last_5, wickets_last_5, model=rf_reg):\n",
        "  prediction_array = []\n",
        "\n",
        "  #Batting Team\n",
        "  if batting_team == 'Chennai Super Kings':\n",
        "    prediction_array = prediction_array + [1,0,0,0,0,0,0,0] \n",
        "  elif batting_team == 'Delhi Daredevils':\n",
        "    prediction_array = prediction_array + [0,1,0,0,0,0,0,0]\n",
        "  elif batting_team == 'Kings XI Punjab':\n",
        "    prediction_array = prediction_array + [0,0,1,0,0,0,0,0]\n",
        "  elif batting_team == 'Kolkata Knight Riders':\n",
        "    prediction_array = prediction_array + [0,0,0,1,0,0,0,0]\n",
        "  elif batting_team == 'Mumbai Indians':\n",
        "    prediction_array = prediction_array + [0,0,0,0,1,0,0,0]\n",
        "  elif batting_team == 'Rajasthan Royals':\n",
        "    prediction_array = prediction_array + [0,0,0,0,0,1,0,0]\n",
        "  elif batting_team == 'Royal Challengers Bangalore':\n",
        "    prediction_array = prediction_array + [0,0,0,0,0,0,1,0]\n",
        "  elif batting_team == 'Sunrisers Hyderabad':\n",
        "    prediction_array = prediction_array + [0,0,0,0,0,0,0,1]\n",
        "\n",
        "  #Bowling Team\n",
        "  if bowling_team == 'Chennai Super Kings':\n",
        "    prediction_array = prediction_array + [1,0,0,0,0,0,0,0] \n",
        "  elif bowling_team == 'Delhi Daredevils':\n",
        "    prediction_array = prediction_array + [0,1,0,0,0,0,0,0]\n",
        "  elif bowling_team == 'Kings XI Punjab':\n",
        "    prediction_array = prediction_array + [0,0,1,0,0,0,0,0]\n",
        "  elif bowling_team == 'Kolkata Knight Riders':\n",
        "    prediction_array = prediction_array + [0,0,0,1,0,0,0,0]\n",
        "  elif bowling_team == 'Mumbai Indians':\n",
        "    prediction_array = prediction_array + [0,0,0,0,1,0,0,0]\n",
        "  elif bowling_team == 'Rajasthan Royals':\n",
        "    prediction_array = prediction_array + [0,0,0,0,0,1,0,0]\n",
        "  elif bowling_team == 'Royal Challengers Bangalore':\n",
        "    prediction_array = prediction_array + [0,0,0,0,0,0,1,0]\n",
        "  elif bowling_team == 'Sunrisers Hyderabad':\n",
        "    prediction_array = prediction_array + [0,0,0,0,0,0,0,1]\n",
        "\n",
        "  # Venue\n",
        "  if venue == 'Dr DY Patil Sports Academy':\n",
        "    prediction_array = prediction_array + [1,0,0,0,0,0,0,0,0,0] \n",
        "  elif venue == 'Eden Gardens':\n",
        "    prediction_array = prediction_array + [0,1,0,0,0,0,0,0,0,0]\n",
        "  elif venue == 'Feroz Shah Kotla':\n",
        "    prediction_array = prediction_array + [0,0,1,0,0,0,0,0,0,0]\n",
        "  elif venue == 'M Chinnaswamy Stadium':\n",
        "    prediction_array = prediction_array + [0,0,0,1,0,0,0,0,0,0]      \n",
        "  elif venue == 'MA Chidambaram Stadium, Chepauk':\n",
        "    prediction_array = prediction_array + [0,0,0,0,1,0,0,0,0,0]\n",
        "  elif venue == 'Punjab Cricket Association Stadium, Mohali':\n",
        "    prediction_array = prediction_array + [0,0,0,0,0,1,0,0,0,0]\n",
        "  elif venue == 'Rajiv Gandhi International Stadium, Uppal':\n",
        "    prediction_array = prediction_array + [0,0,0,0,0,0,1,0,0,0]\n",
        "  elif venue == 'Sawai Mansingh Stadium':\n",
        "    prediction_array = prediction_array + [0,0,0,0,0,0,0,1,0,0]\n",
        "  elif venue == 'Subrata Roy Sahara Stadium':\n",
        "    prediction_array = prediction_array + [0,0,0,0,0,0,0,0,1,0]\n",
        "  elif venue == 'Wankhede Stadium':\n",
        "    prediction_array = prediction_array + [0,0,0,0,0,0,0,0,0,1]  \n",
        "\n",
        "  prediction_array = prediction_array + [overs, runs, wickets, runs_last_5, wickets_last_5]\n",
        "  prediction_array = np.array([prediction_array])\n",
        "  pred = model.predict(prediction_array)\n",
        "  return int(round(pred[0]))"
      ],
      "execution_count": 65,
      "outputs": []
    },
    {
      "cell_type": "markdown",
      "metadata": {
        "id": "_AcqyNcCvYR8"
      },
      "source": [
        "### Test 1\n",
        "- Batting Team : **Delhi Daredevils**\n",
        "- Bowling Team : **Chennai Super Kings**\n",
        "- Final Score : **147/9**"
      ]
    },
    {
      "cell_type": "code",
      "metadata": {
        "colab": {
          "base_uri": "https://localhost:8080/"
        },
        "id": "OjweA4YopUij",
        "outputId": "a472574f-7084-45de-e42c-3726a36cac81"
      },
      "source": [
        "bat_team='Delhi Daredevils'\n",
        "bowl_team='Chennai Super Kings'\n",
        "venue = 'Wankhede Stadium'\n",
        "score = predict_score(bat_team, bowl_team, venue, overs=10.2, runs=68, wickets=3, runs_last_5=29, wickets_last_5=1)\n",
        "print(f'Predicted Score : {score} || Actual Score : 147')"
      ],
      "execution_count": 66,
      "outputs": [
        {
          "output_type": "stream",
          "text": [
            "Predicted Score : 152 || Actual Score : 147\n"
          ],
          "name": "stdout"
        }
      ]
    },
    {
      "cell_type": "markdown",
      "metadata": {
        "id": "Y8_IQ8MOwVX5"
      },
      "source": [
        "### Test 2\n",
        "- Batting Team : **Mumbai Indians**\n",
        "- Bowling Team : **Kings XI Punjab**\n",
        "- Final Score : **176/7**"
      ]
    },
    {
      "cell_type": "code",
      "metadata": {
        "colab": {
          "base_uri": "https://localhost:8080/"
        },
        "id": "KWgxCxuEpUk7",
        "outputId": "7c2075e6-dff8-40ca-db16-ca823a8ab04a"
      },
      "source": [
        "batting_team='Mumbai Indians'\n",
        "bowling_team='Kings XI Punjab'\n",
        "venue = 'M Chinnaswamy Stadium'\n",
        "score = predict_score(batting_team, bowling_team, venue, overs=12.3, runs=113, wickets=2, runs_last_5=55, wickets_last_5=0)\n",
        "print(f'Predicted Score : {score} || Actual Score : 176')"
      ],
      "execution_count": 67,
      "outputs": [
        {
          "output_type": "stream",
          "text": [
            "Predicted Score : 187 || Actual Score : 176\n"
          ],
          "name": "stdout"
        }
      ]
    },
    {
      "cell_type": "markdown",
      "metadata": {
        "id": "Tz0SaDL-w0Ix"
      },
      "source": [
        "### Live Test 1 (2020 season)\n",
        "- Batting Team : **Kings XI Punjab**\n",
        "- Bowling Team : **Rajasthan Royals**\n",
        "- Final Score : **185/4**\n",
        "<br/>\n",
        "These Test Was done before the match and final score were added later."
      ]
    },
    {
      "cell_type": "code",
      "metadata": {
        "colab": {
          "base_uri": "https://localhost:8080/"
        },
        "id": "XdWSSrabpUnZ",
        "outputId": "50f6f491-e637-47c8-b5c5-f68b5923c675"
      },
      "source": [
        "# Live Test\n",
        "batting_team=\"Kings XI Punjab\"\n",
        "bowling_team=\"Rajasthan Royals\"\n",
        "venue = 'Wankhede Stadium'\n",
        "score = predict_score(batting_team, bowling_team, venue, overs=14.0, runs=118, wickets=1, runs_last_5=45, wickets_last_5=0)\n",
        "print(f'Predicted Score : {score} || Actual Score : 185')"
      ],
      "execution_count": 68,
      "outputs": [
        {
          "output_type": "stream",
          "text": [
            "Predicted Score : 188 || Actual Score : 185\n"
          ],
          "name": "stdout"
        }
      ]
    },
    {
      "cell_type": "markdown",
      "metadata": {
        "id": "xPtM4Z5cxHqK"
      },
      "source": [
        "### Live Test 2 (2020 Season)\n",
        "- Batting Team : **Kolkata Knight Riders**\n",
        "- Bowling Team : **Chennai Super Kings**\n",
        "- Final Score : **172/5**"
      ]
    },
    {
      "cell_type": "code",
      "metadata": {
        "colab": {
          "base_uri": "https://localhost:8080/"
        },
        "id": "sv0J6vBgpUuO",
        "outputId": "1f406dbc-3a17-4c4b-bd6a-9ab9d05d6013"
      },
      "source": [
        "# Live Test\n",
        "batting_team=\"Kolkata Knight Riders\"\n",
        "bowling_team=\"Chennai Super Kings\"\n",
        "venue = 'Wankhede Stadium'\n",
        "score = predict_score(batting_team, bowling_team, venue, overs=18.0, runs=150, wickets=4, runs_last_5=57, wickets_last_5=1)\n",
        "print(f'Predicted Score : {score} || Actual Score : 172')"
      ],
      "execution_count": 69,
      "outputs": [
        {
          "output_type": "stream",
          "text": [
            "Predicted Score : 173 || Actual Score : 172\n"
          ],
          "name": "stdout"
        }
      ]
    },
    {
      "cell_type": "markdown",
      "metadata": {
        "id": "9sJsFzu9xP7Y"
      },
      "source": [
        "### Live Test 3 (2020 Season)\n",
        "- Batting Team : **Delhi Daredevils**\n",
        "- Bowling Team : **Mumbai Indians**\n",
        "- Final Score : **110/7**"
      ]
    },
    {
      "cell_type": "code",
      "metadata": {
        "colab": {
          "base_uri": "https://localhost:8080/"
        },
        "id": "FGB9QhkcpUxv",
        "outputId": "163132e2-ca67-47ae-e64e-2e44e895c3f1"
      },
      "source": [
        "batting_team='Delhi Daredevils'\n",
        "bowling_team='Mumbai Indians'\n",
        "venue = 'Wankhede Stadium'\n",
        "score = predict_score(batting_team, bowling_team, venue, overs=18.0, runs=96, wickets=8, runs_last_5=18, wickets_last_5=4)\n",
        "print(f'Predicted Score : {score} || Actual Score : 110')"
      ],
      "execution_count": 70,
      "outputs": [
        {
          "output_type": "stream",
          "text": [
            "Predicted Score : 109 || Actual Score : 110\n"
          ],
          "name": "stdout"
        }
      ]
    },
    {
      "cell_type": "markdown",
      "metadata": {
        "id": "WTd8Z6t9xdgQ"
      },
      "source": [
        "### Live Test 4 (2020 Season)\n",
        "- Batting Team : **Kings XI Punjab**\n",
        "- Bowling Team : **Chennai Super Kings**\n",
        "- Final Score : **153/9**"
      ]
    },
    {
      "cell_type": "code",
      "metadata": {
        "colab": {
          "base_uri": "https://localhost:8080/"
        },
        "id": "QV_YJmTxpU2s",
        "outputId": "460d52d0-8ad2-4f74-a230-5db60625f0ea"
      },
      "source": [
        "batting_team='Kings XI Punjab'\n",
        "bowling_team='Chennai Super Kings'\n",
        "venue = 'Wankhede Stadium'\n",
        "score = predict_score(batting_team, bowling_team, venue, overs=18.0, runs=129, wickets=6, runs_last_5=34, wickets_last_5=2)\n",
        "print(f'Predicted Score : {score} || Actual Score : 153')"
      ],
      "execution_count": 71,
      "outputs": [
        {
          "output_type": "stream",
          "text": [
            "Predicted Score : 149 || Actual Score : 153\n"
          ],
          "name": "stdout"
        }
      ]
    },
    {
      "cell_type": "code",
      "metadata": {
        "colab": {
          "base_uri": "https://localhost:8080/",
          "height": 129
        },
        "id": "1ESfYlLlnyR8",
        "outputId": "e6a1f954-bfc6-4823-c055-0e07d2c5f027"
      },
      "source": [
        "import bz2\n",
        "\n",
        "# Pickle a file and then compress it into a file with extension \n",
        "def compressed_pickle(title, data):\n",
        "  with bz2.BZ2File(title, ‘w’) as f:\n",
        "    cPickle.dump(data, f)\n",
        "\n",
        "\n",
        "compressed_pickle('random_forest_model.pkl', rf_reg)"
      ],
      "execution_count": 81,
      "outputs": [
        {
          "output_type": "error",
          "ename": "SyntaxError",
          "evalue": "ignored",
          "traceback": [
            "\u001b[0;36m  File \u001b[0;32m\"<ipython-input-81-9d5644f89ba9>\"\u001b[0;36m, line \u001b[0;32m5\u001b[0m\n\u001b[0;31m    with bz2.BZ2File(title, ‘w’) as f:\u001b[0m\n\u001b[0m                              ^\u001b[0m\n\u001b[0;31mSyntaxError\u001b[0m\u001b[0;31m:\u001b[0m invalid character in identifier\n"
          ]
        }
      ]
    },
    {
      "cell_type": "markdown",
      "metadata": {
        "id": "lJkkExF1yUiw"
      },
      "source": [
        "# Export Model"
      ]
    },
    {
      "cell_type": "code",
      "metadata": {
        "id": "mK17T1PAxiIk"
      },
      "source": [
        "# Exporting the models to pickle file\n",
        "import pickle\n",
        "\n",
        "# Creating a pickle file for the RandomForestRegressor\n",
        "filename = 'random_forest_model.pkl'\n",
        "pickle.dump(rf_reg, open(filename,'wb'))\n",
        "\n",
        "# Creating a pickle file for the DecisionTreeRegressor\n",
        "filename = 'decision_tree_model.pkl'\n",
        "pickle.dump(dt_reg, open(filename, 'wb'))\n",
        "\n",
        "\n",
        "# Creating a pickle file for the LinearRegressor\n",
        "#filename = 'linear_reg_model.pkl'\n",
        "#pickle.dump(linear_reg, open(filename, 'wb'))"
      ],
      "execution_count": 76,
      "outputs": []
    },
    {
      "cell_type": "code",
      "metadata": {
        "colab": {
          "base_uri": "https://localhost:8080/"
        },
        "id": "O8oZ_C_AzMJT",
        "outputId": "d9bbd14e-7e19-42bb-b663-dd731a54e110"
      },
      "source": [
        "from joblib import dump\n",
        "dump(linear_reg, 'linear_reg_model.pkl')"
      ],
      "execution_count": 77,
      "outputs": [
        {
          "output_type": "execute_result",
          "data": {
            "text/plain": [
              "['linear_reg_model.pkl']"
            ]
          },
          "metadata": {
            "tags": []
          },
          "execution_count": 77
        }
      ]
    },
    {
      "cell_type": "markdown",
      "metadata": {
        "id": "nRfGximZt-i8"
      },
      "source": [
        "## Compressed format of Pickle files\n",
        "*For more info refer - https://betterprogramming.pub/load-fast-load-big-with-compressed-pickles-5f311584507e*"
      ]
    },
    {
      "cell_type": "code",
      "metadata": {
        "id": "KSX9hySjqNww"
      },
      "source": [
        "import gzip\n",
        "import _pickle as cPickle\n",
        "with gzip.GzipFile('rf_model_comp.pgz', 'w') as f:\n",
        "            pickle.dump(rf_reg, f)  "
      ],
      "execution_count": 89,
      "outputs": []
    },
    {
      "cell_type": "code",
      "metadata": {
        "id": "PFHlblKCrKKd"
      },
      "source": [
        "import pickle\n",
        "import _pickle as cPickle\n",
        "#import cPickle as pickle        \n",
        "with open('random_forest_model.pkl', 'wb') as f:\n",
        "  cPickle.dump(rf_reg, f)\n",
        "\n",
        "\n",
        "\n",
        "import bz2\n",
        "import pickle\n",
        "import _pickle as cPickle\n",
        "\n",
        "# Saves the \"data\" with the \"title\" and adds the .pickle\n",
        "def full_pickle(title, data):\n",
        " pikd = open(title, ‘wb’)\n",
        " pickle.dump(data, pikd)\n",
        " pikd.close()\n",
        "\n",
        "\n",
        " full_pickle('random_forest_model.pkl', rf_reg)  "
      ],
      "execution_count": 88,
      "outputs": []
    },
    {
      "cell_type": "code",
      "metadata": {
        "id": "T71sUpLQoyjD"
      },
      "source": [
        ""
      ],
      "execution_count": null,
      "outputs": []
    }
  ]
}